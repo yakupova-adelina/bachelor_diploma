{
 "cells": [
  {
   "cell_type": "code",
   "execution_count": 1,
   "id": "bc262ca8",
   "metadata": {},
   "outputs": [],
   "source": [
    "import numpy as np\n",
    "import pandas as pd\n",
    "import matplotlib.pyplot as plt\n",
    "import seaborn as sns\n",
    "\n",
    "sns.color_palette(\"Set2\")\n",
    "%matplotlib inline"
   ]
  },
  {
   "cell_type": "markdown",
   "id": "b7926e04",
   "metadata": {},
   "source": [
    "Load dataset"
   ]
  },
  {
   "cell_type": "code",
   "execution_count": 2,
   "id": "b4f18eda",
   "metadata": {},
   "outputs": [],
   "source": [
    "df = pd.read_csv(\"with_olymp_db.csv\", index_col=\"id\")"
   ]
  },
  {
   "cell_type": "markdown",
   "id": "aed0cb13",
   "metadata": {},
   "source": [
    "`success` = учится ли человек\n",
    "\n",
    "`fail` = отчислен ли человек"
   ]
  },
  {
   "cell_type": "code",
   "execution_count": 3,
   "id": "d08c9719",
   "metadata": {},
   "outputs": [
    {
     "data": {
      "text/html": [
       "<div>\n",
       "<style scoped>\n",
       "    .dataframe tbody tr th:only-of-type {\n",
       "        vertical-align: middle;\n",
       "    }\n",
       "\n",
       "    .dataframe tbody tr th {\n",
       "        vertical-align: top;\n",
       "    }\n",
       "\n",
       "    .dataframe thead th {\n",
       "        text-align: right;\n",
       "    }\n",
       "</style>\n",
       "<table border=\"1\" class=\"dataframe\">\n",
       "  <thead>\n",
       "    <tr style=\"text-align: right;\">\n",
       "      <th></th>\n",
       "      <th>admission_year</th>\n",
       "      <th>admission_condition</th>\n",
       "      <th>exam_math</th>\n",
       "      <th>exam_inf</th>\n",
       "      <th>exam_rus</th>\n",
       "      <th>individual_achievements</th>\n",
       "      <th>exam_sum</th>\n",
       "      <th>student_mark_math</th>\n",
       "      <th>student_mark_inf</th>\n",
       "      <th>expulsion_sem</th>\n",
       "      <th>gpa_after_first_sem</th>\n",
       "      <th>gpa_after_second_sem</th>\n",
       "      <th>retakes_number_after_first_sem</th>\n",
       "      <th>retakes_number_after_second_sem</th>\n",
       "      <th>math_olymp_100</th>\n",
       "      <th>inf_olymp_100</th>\n",
       "      <th>math_olymp_bvi</th>\n",
       "      <th>inf_olymp_bvi</th>\n",
       "      <th>success</th>\n",
       "      <th>fail</th>\n",
       "    </tr>\n",
       "    <tr>\n",
       "      <th>id</th>\n",
       "      <th></th>\n",
       "      <th></th>\n",
       "      <th></th>\n",
       "      <th></th>\n",
       "      <th></th>\n",
       "      <th></th>\n",
       "      <th></th>\n",
       "      <th></th>\n",
       "      <th></th>\n",
       "      <th></th>\n",
       "      <th></th>\n",
       "      <th></th>\n",
       "      <th></th>\n",
       "      <th></th>\n",
       "      <th></th>\n",
       "      <th></th>\n",
       "      <th></th>\n",
       "      <th></th>\n",
       "      <th></th>\n",
       "      <th></th>\n",
       "    </tr>\n",
       "  </thead>\n",
       "  <tbody>\n",
       "    <tr>\n",
       "      <th>0</th>\n",
       "      <td>2017</td>\n",
       "      <td>БВИ</td>\n",
       "      <td>88.0</td>\n",
       "      <td>100.0</td>\n",
       "      <td>88.0</td>\n",
       "      <td>10.0</td>\n",
       "      <td>310.0</td>\n",
       "      <td>9.0</td>\n",
       "      <td>NaN</td>\n",
       "      <td>NaN</td>\n",
       "      <td>7.17</td>\n",
       "      <td>6.53</td>\n",
       "      <td>NaN</td>\n",
       "      <td>NaN</td>\n",
       "      <td>0</td>\n",
       "      <td>1</td>\n",
       "      <td>0</td>\n",
       "      <td>1</td>\n",
       "      <td>True</td>\n",
       "      <td>False</td>\n",
       "    </tr>\n",
       "    <tr>\n",
       "      <th>1</th>\n",
       "      <td>2017</td>\n",
       "      <td>БВИ</td>\n",
       "      <td>NaN</td>\n",
       "      <td>NaN</td>\n",
       "      <td>NaN</td>\n",
       "      <td>NaN</td>\n",
       "      <td>NaN</td>\n",
       "      <td>NaN</td>\n",
       "      <td>NaN</td>\n",
       "      <td>NaN</td>\n",
       "      <td>8.33</td>\n",
       "      <td>7.93</td>\n",
       "      <td>NaN</td>\n",
       "      <td>NaN</td>\n",
       "      <td>0</td>\n",
       "      <td>1</td>\n",
       "      <td>0</td>\n",
       "      <td>1</td>\n",
       "      <td>True</td>\n",
       "      <td>False</td>\n",
       "    </tr>\n",
       "    <tr>\n",
       "      <th>2</th>\n",
       "      <td>2017</td>\n",
       "      <td>БВИ</td>\n",
       "      <td>98.0</td>\n",
       "      <td>94.0</td>\n",
       "      <td>86.0</td>\n",
       "      <td>4.0</td>\n",
       "      <td>NaN</td>\n",
       "      <td>NaN</td>\n",
       "      <td>NaN</td>\n",
       "      <td>NaN</td>\n",
       "      <td>9.17</td>\n",
       "      <td>8.73</td>\n",
       "      <td>NaN</td>\n",
       "      <td>NaN</td>\n",
       "      <td>1</td>\n",
       "      <td>0</td>\n",
       "      <td>1</td>\n",
       "      <td>0</td>\n",
       "      <td>True</td>\n",
       "      <td>False</td>\n",
       "    </tr>\n",
       "    <tr>\n",
       "      <th>3</th>\n",
       "      <td>2017</td>\n",
       "      <td>БВИ</td>\n",
       "      <td>84.0</td>\n",
       "      <td>84.0</td>\n",
       "      <td>72.0</td>\n",
       "      <td>6.0</td>\n",
       "      <td>NaN</td>\n",
       "      <td>9.0</td>\n",
       "      <td>8.0</td>\n",
       "      <td>NaN</td>\n",
       "      <td>7.00</td>\n",
       "      <td>7.50</td>\n",
       "      <td>NaN</td>\n",
       "      <td>NaN</td>\n",
       "      <td>1</td>\n",
       "      <td>0</td>\n",
       "      <td>1</td>\n",
       "      <td>0</td>\n",
       "      <td>True</td>\n",
       "      <td>False</td>\n",
       "    </tr>\n",
       "    <tr>\n",
       "      <th>4</th>\n",
       "      <td>2017</td>\n",
       "      <td>БВИ</td>\n",
       "      <td>96.0</td>\n",
       "      <td>100.0</td>\n",
       "      <td>91.0</td>\n",
       "      <td>10.0</td>\n",
       "      <td>NaN</td>\n",
       "      <td>8.0</td>\n",
       "      <td>10.0</td>\n",
       "      <td>NaN</td>\n",
       "      <td>9.17</td>\n",
       "      <td>8.87</td>\n",
       "      <td>NaN</td>\n",
       "      <td>NaN</td>\n",
       "      <td>0</td>\n",
       "      <td>1</td>\n",
       "      <td>0</td>\n",
       "      <td>1</td>\n",
       "      <td>True</td>\n",
       "      <td>False</td>\n",
       "    </tr>\n",
       "    <tr>\n",
       "      <th>...</th>\n",
       "      <td>...</td>\n",
       "      <td>...</td>\n",
       "      <td>...</td>\n",
       "      <td>...</td>\n",
       "      <td>...</td>\n",
       "      <td>...</td>\n",
       "      <td>...</td>\n",
       "      <td>...</td>\n",
       "      <td>...</td>\n",
       "      <td>...</td>\n",
       "      <td>...</td>\n",
       "      <td>...</td>\n",
       "      <td>...</td>\n",
       "      <td>...</td>\n",
       "      <td>...</td>\n",
       "      <td>...</td>\n",
       "      <td>...</td>\n",
       "      <td>...</td>\n",
       "      <td>...</td>\n",
       "      <td>...</td>\n",
       "    </tr>\n",
       "    <tr>\n",
       "      <th>308</th>\n",
       "      <td>2019</td>\n",
       "      <td>Контракт</td>\n",
       "      <td>86.0</td>\n",
       "      <td>84.0</td>\n",
       "      <td>89.0</td>\n",
       "      <td>8.0</td>\n",
       "      <td>283.0</td>\n",
       "      <td>4.0</td>\n",
       "      <td>8.0</td>\n",
       "      <td>NaN</td>\n",
       "      <td>5.14</td>\n",
       "      <td>6.35</td>\n",
       "      <td>1.0</td>\n",
       "      <td>NaN</td>\n",
       "      <td>0</td>\n",
       "      <td>0</td>\n",
       "      <td>0</td>\n",
       "      <td>0</td>\n",
       "      <td>True</td>\n",
       "      <td>False</td>\n",
       "    </tr>\n",
       "    <tr>\n",
       "      <th>309</th>\n",
       "      <td>2019</td>\n",
       "      <td>Контракт</td>\n",
       "      <td>92.0</td>\n",
       "      <td>91.0</td>\n",
       "      <td>94.0</td>\n",
       "      <td>4.0</td>\n",
       "      <td>281.0</td>\n",
       "      <td>8.0</td>\n",
       "      <td>3.0</td>\n",
       "      <td>NaN</td>\n",
       "      <td>6.29</td>\n",
       "      <td>6.29</td>\n",
       "      <td>NaN</td>\n",
       "      <td>NaN</td>\n",
       "      <td>0</td>\n",
       "      <td>0</td>\n",
       "      <td>0</td>\n",
       "      <td>0</td>\n",
       "      <td>True</td>\n",
       "      <td>False</td>\n",
       "    </tr>\n",
       "    <tr>\n",
       "      <th>310</th>\n",
       "      <td>2019</td>\n",
       "      <td>Контракт</td>\n",
       "      <td>88.0</td>\n",
       "      <td>91.0</td>\n",
       "      <td>89.0</td>\n",
       "      <td>10.0</td>\n",
       "      <td>278.0</td>\n",
       "      <td>4.0</td>\n",
       "      <td>4.0</td>\n",
       "      <td>1.0</td>\n",
       "      <td>NaN</td>\n",
       "      <td>NaN</td>\n",
       "      <td>NaN</td>\n",
       "      <td>NaN</td>\n",
       "      <td>1</td>\n",
       "      <td>0</td>\n",
       "      <td>0</td>\n",
       "      <td>0</td>\n",
       "      <td>False</td>\n",
       "      <td>True</td>\n",
       "    </tr>\n",
       "    <tr>\n",
       "      <th>311</th>\n",
       "      <td>2019</td>\n",
       "      <td>Контракт</td>\n",
       "      <td>94.0</td>\n",
       "      <td>81.0</td>\n",
       "      <td>94.0</td>\n",
       "      <td>2.0</td>\n",
       "      <td>271.0</td>\n",
       "      <td>6.0</td>\n",
       "      <td>5.0</td>\n",
       "      <td>NaN</td>\n",
       "      <td>4.71</td>\n",
       "      <td>4.41</td>\n",
       "      <td>1.0</td>\n",
       "      <td>2.0</td>\n",
       "      <td>0</td>\n",
       "      <td>1</td>\n",
       "      <td>0</td>\n",
       "      <td>0</td>\n",
       "      <td>True</td>\n",
       "      <td>False</td>\n",
       "    </tr>\n",
       "    <tr>\n",
       "      <th>312</th>\n",
       "      <td>2019</td>\n",
       "      <td>Контракт</td>\n",
       "      <td>96.0</td>\n",
       "      <td>84.0</td>\n",
       "      <td>91.0</td>\n",
       "      <td>3.0</td>\n",
       "      <td>274.0</td>\n",
       "      <td>9.0</td>\n",
       "      <td>9.0</td>\n",
       "      <td>NaN</td>\n",
       "      <td>4.86</td>\n",
       "      <td>4.82</td>\n",
       "      <td>2.0</td>\n",
       "      <td>1.0</td>\n",
       "      <td>0</td>\n",
       "      <td>0</td>\n",
       "      <td>0</td>\n",
       "      <td>0</td>\n",
       "      <td>True</td>\n",
       "      <td>False</td>\n",
       "    </tr>\n",
       "  </tbody>\n",
       "</table>\n",
       "<p>313 rows × 20 columns</p>\n",
       "</div>"
      ],
      "text/plain": [
       "     admission_year admission_condition  exam_math  exam_inf  exam_rus  \\\n",
       "id                                                                       \n",
       "0              2017                 БВИ       88.0     100.0      88.0   \n",
       "1              2017                 БВИ        NaN       NaN       NaN   \n",
       "2              2017                 БВИ       98.0      94.0      86.0   \n",
       "3              2017                 БВИ       84.0      84.0      72.0   \n",
       "4              2017                 БВИ       96.0     100.0      91.0   \n",
       "..              ...                 ...        ...       ...       ...   \n",
       "308            2019            Контракт       86.0      84.0      89.0   \n",
       "309            2019            Контракт       92.0      91.0      94.0   \n",
       "310            2019            Контракт       88.0      91.0      89.0   \n",
       "311            2019            Контракт       94.0      81.0      94.0   \n",
       "312            2019            Контракт       96.0      84.0      91.0   \n",
       "\n",
       "     individual_achievements  exam_sum  student_mark_math  student_mark_inf  \\\n",
       "id                                                                            \n",
       "0                       10.0     310.0                9.0               NaN   \n",
       "1                        NaN       NaN                NaN               NaN   \n",
       "2                        4.0       NaN                NaN               NaN   \n",
       "3                        6.0       NaN                9.0               8.0   \n",
       "4                       10.0       NaN                8.0              10.0   \n",
       "..                       ...       ...                ...               ...   \n",
       "308                      8.0     283.0                4.0               8.0   \n",
       "309                      4.0     281.0                8.0               3.0   \n",
       "310                     10.0     278.0                4.0               4.0   \n",
       "311                      2.0     271.0                6.0               5.0   \n",
       "312                      3.0     274.0                9.0               9.0   \n",
       "\n",
       "     expulsion_sem  gpa_after_first_sem  gpa_after_second_sem  \\\n",
       "id                                                              \n",
       "0              NaN                 7.17                  6.53   \n",
       "1              NaN                 8.33                  7.93   \n",
       "2              NaN                 9.17                  8.73   \n",
       "3              NaN                 7.00                  7.50   \n",
       "4              NaN                 9.17                  8.87   \n",
       "..             ...                  ...                   ...   \n",
       "308            NaN                 5.14                  6.35   \n",
       "309            NaN                 6.29                  6.29   \n",
       "310            1.0                  NaN                   NaN   \n",
       "311            NaN                 4.71                  4.41   \n",
       "312            NaN                 4.86                  4.82   \n",
       "\n",
       "     retakes_number_after_first_sem  retakes_number_after_second_sem  \\\n",
       "id                                                                     \n",
       "0                               NaN                              NaN   \n",
       "1                               NaN                              NaN   \n",
       "2                               NaN                              NaN   \n",
       "3                               NaN                              NaN   \n",
       "4                               NaN                              NaN   \n",
       "..                              ...                              ...   \n",
       "308                             1.0                              NaN   \n",
       "309                             NaN                              NaN   \n",
       "310                             NaN                              NaN   \n",
       "311                             1.0                              2.0   \n",
       "312                             2.0                              1.0   \n",
       "\n",
       "     math_olymp_100  inf_olymp_100  math_olymp_bvi  inf_olymp_bvi  success  \\\n",
       "id                                                                           \n",
       "0                 0              1               0              1     True   \n",
       "1                 0              1               0              1     True   \n",
       "2                 1              0               1              0     True   \n",
       "3                 1              0               1              0     True   \n",
       "4                 0              1               0              1     True   \n",
       "..              ...            ...             ...            ...      ...   \n",
       "308               0              0               0              0     True   \n",
       "309               0              0               0              0     True   \n",
       "310               1              0               0              0    False   \n",
       "311               0              1               0              0     True   \n",
       "312               0              0               0              0     True   \n",
       "\n",
       "      fail  \n",
       "id          \n",
       "0    False  \n",
       "1    False  \n",
       "2    False  \n",
       "3    False  \n",
       "4    False  \n",
       "..     ...  \n",
       "308  False  \n",
       "309  False  \n",
       "310   True  \n",
       "311  False  \n",
       "312  False  \n",
       "\n",
       "[313 rows x 20 columns]"
      ]
     },
     "execution_count": 3,
     "metadata": {},
     "output_type": "execute_result"
    }
   ],
   "source": [
    "df[\"success\"] = df.expulsion_sem.isnull()\n",
    "df[\"fail\"] = ~df[\"success\"]\n",
    "df"
   ]
  },
  {
   "cell_type": "code",
   "execution_count": 4,
   "id": "4a2beeaf",
   "metadata": {},
   "outputs": [],
   "source": [
    "def draw_hist(column_name, **kwargs):\n",
    "    fig, axes = plt.subplots(1, 3, figsize=(18, 6), sharey=True)\n",
    "    if \"title\" in kwargs:\n",
    "        fig.suptitle(kwargs[\"title\"])\n",
    "    min_year = df.admission_year.min()\n",
    "    years_cnt = df.admission_year.max() - min_year\n",
    "    if \"ylabel\" in kwargs:\n",
    "        axes[0].set_ylabel(kwargs[\"ylabel\"])\n",
    "    for i in range(years_cnt + 1):\n",
    "        axes[i].hist(\n",
    "            df.loc[df.success & (df.admission_year == min_year + i), column_name].dropna().to_numpy(), \n",
    "            bins=10,\n",
    "            alpha=0.5,\n",
    "            label=\"Success\",\n",
    "            density=True\n",
    "        )\n",
    "        axes[i].hist(\n",
    "            df.loc[df.fail & (df.admission_year == min_year + i), column_name].dropna().to_numpy(),\n",
    "            bins=10,\n",
    "            alpha=0.5,\n",
    "            label=\"Fail\",\n",
    "            density=True\n",
    "        )\n",
    "        axes[i].set_title(str(min_year + i))\n",
    "        if \"xlabel\" in kwargs:\n",
    "            axes[i].set_xlabel(kwargs[\"xlabel\"])\n",
    "        axes[i].legend()\n",
    "    plt.savefig(kwargs[\"title\"] + \".png\", dpi=300)\n",
    "    plt.show()"
   ]
  },
  {
   "cell_type": "code",
   "execution_count": 5,
   "id": "8d74b7ea",
   "metadata": {},
   "outputs": [
    {
     "data": {
      "image/png": "[encoded data removed]",
      "text/plain": [
       "<Figure size 1296x432 with 3 Axes>"
      ]
     },
     "metadata": {
      "needs_background": "light"
     },
     "output_type": "display_data"
    }
   ],
   "source": [
    "draw_hist(\"exam_math\", title=\"Math\", xlabel=\"Math exam result\", ylabel=\"Probability\")"
   ]
  },
  {
   "cell_type": "code",
   "execution_count": 6,
   "id": "85a0d386",
   "metadata": {},
   "outputs": [
    {
     "data": {
      "image/png": "[encoded data removed]",
      "text/plain": [
       "<Figure size 1296x432 with 3 Axes>"
      ]
     },
     "metadata": {
      "needs_background": "light"
     },
     "output_type": "display_data"
    }
   ],
   "source": [
    "draw_hist(\"exam_inf\", title=\"Informatics\", xlabel=\"Informatics exam result\", ylabel=\"Probability\")"
   ]
  },
  {
   "cell_type": "code",
   "execution_count": 7,
   "id": "5734fdbd",
   "metadata": {
    "scrolled": false
   },
   "outputs": [
    {
     "data": {
      "image/png": "[encoded data removed]",
      "text/plain": [
       "<Figure size 1296x432 with 3 Axes>"
      ]
     },
     "metadata": {
      "needs_background": "light"
     },
     "output_type": "display_data"
    }
   ],
   "source": [
    "draw_hist(\"exam_rus\", title=\"Russian\", xlabel=\"Russian exam result\", ylabel=\"Probability\")"
   ]
  },
  {
   "cell_type": "code",
   "execution_count": 8,
   "id": "f9e748a9",
   "metadata": {
    "scrolled": false
   },
   "outputs": [
    {
     "data": {
      "image/png": "[encoded data removed]",
      "text/plain": [
       "<Figure size 1296x432 with 3 Axes>"
      ]
     },
     "metadata": {
      "needs_background": "light"
     },
     "output_type": "display_data"
    }
   ],
   "source": [
    "draw_hist(\"exam_sum\", title=\"Sum\")"
   ]
  },
  {
   "cell_type": "markdown",
   "id": "2defb53f",
   "metadata": {},
   "source": [
    "# Models"
   ]
  },
  {
   "cell_type": "code",
   "execution_count": 9,
   "id": "ef8dc07a",
   "metadata": {},
   "outputs": [],
   "source": [
    "from sklearn.preprocessing import StandardScaler, LabelEncoder, OneHotEncoder\n",
    "from sklearn.model_selection import cross_validate, GridSearchCV, train_test_split\n",
    "import sklearn.metrics as metrics"
   ]
  },
  {
   "cell_type": "code",
   "execution_count": 10,
   "id": "9ca73d71",
   "metadata": {},
   "outputs": [],
   "source": [
    "df[\"good_admission_condition\"] = df.admission_condition.isin([\"БВИ\", \"Общий конкурс\", \"ОК\", \"Грант\"]).astype(np.int16)\n",
    "df[\"bad_admission_condition\"] = 1 - df[\"good_admission_condition\"]"
   ]
  },
  {
   "cell_type": "code",
   "execution_count": 11,
   "id": "98800ec1",
   "metadata": {},
   "outputs": [
    {
     "data": {
      "text/html": [
       "<div>\n",
       "<style scoped>\n",
       "    .dataframe tbody tr th:only-of-type {\n",
       "        vertical-align: middle;\n",
       "    }\n",
       "\n",
       "    .dataframe tbody tr th {\n",
       "        vertical-align: top;\n",
       "    }\n",
       "\n",
       "    .dataframe thead th {\n",
       "        text-align: right;\n",
       "    }\n",
       "</style>\n",
       "<table border=\"1\" class=\"dataframe\">\n",
       "  <thead>\n",
       "    <tr style=\"text-align: right;\">\n",
       "      <th></th>\n",
       "      <th>admission_year</th>\n",
       "      <th>admission_condition</th>\n",
       "      <th>exam_math</th>\n",
       "      <th>exam_inf</th>\n",
       "      <th>exam_rus</th>\n",
       "      <th>individual_achievements</th>\n",
       "      <th>exam_sum</th>\n",
       "      <th>student_mark_math</th>\n",
       "      <th>student_mark_inf</th>\n",
       "      <th>expulsion_sem</th>\n",
       "      <th>...</th>\n",
       "      <th>retakes_number_after_first_sem</th>\n",
       "      <th>retakes_number_after_second_sem</th>\n",
       "      <th>math_olymp_100</th>\n",
       "      <th>inf_olymp_100</th>\n",
       "      <th>math_olymp_bvi</th>\n",
       "      <th>inf_olymp_bvi</th>\n",
       "      <th>success</th>\n",
       "      <th>fail</th>\n",
       "      <th>good_admission_condition</th>\n",
       "      <th>bad_admission_condition</th>\n",
       "    </tr>\n",
       "    <tr>\n",
       "      <th>id</th>\n",
       "      <th></th>\n",
       "      <th></th>\n",
       "      <th></th>\n",
       "      <th></th>\n",
       "      <th></th>\n",
       "      <th></th>\n",
       "      <th></th>\n",
       "      <th></th>\n",
       "      <th></th>\n",
       "      <th></th>\n",
       "      <th></th>\n",
       "      <th></th>\n",
       "      <th></th>\n",
       "      <th></th>\n",
       "      <th></th>\n",
       "      <th></th>\n",
       "      <th></th>\n",
       "      <th></th>\n",
       "      <th></th>\n",
       "      <th></th>\n",
       "      <th></th>\n",
       "    </tr>\n",
       "  </thead>\n",
       "  <tbody>\n",
       "    <tr>\n",
       "      <th>0</th>\n",
       "      <td>2017</td>\n",
       "      <td>БВИ</td>\n",
       "      <td>88.0</td>\n",
       "      <td>100.0</td>\n",
       "      <td>88.0</td>\n",
       "      <td>10.0</td>\n",
       "      <td>310.0</td>\n",
       "      <td>9.0</td>\n",
       "      <td>NaN</td>\n",
       "      <td>NaN</td>\n",
       "      <td>...</td>\n",
       "      <td>NaN</td>\n",
       "      <td>NaN</td>\n",
       "      <td>0</td>\n",
       "      <td>1</td>\n",
       "      <td>0</td>\n",
       "      <td>1</td>\n",
       "      <td>True</td>\n",
       "      <td>False</td>\n",
       "      <td>1</td>\n",
       "      <td>0</td>\n",
       "    </tr>\n",
       "    <tr>\n",
       "      <th>1</th>\n",
       "      <td>2017</td>\n",
       "      <td>БВИ</td>\n",
       "      <td>NaN</td>\n",
       "      <td>NaN</td>\n",
       "      <td>NaN</td>\n",
       "      <td>NaN</td>\n",
       "      <td>NaN</td>\n",
       "      <td>NaN</td>\n",
       "      <td>NaN</td>\n",
       "      <td>NaN</td>\n",
       "      <td>...</td>\n",
       "      <td>NaN</td>\n",
       "      <td>NaN</td>\n",
       "      <td>0</td>\n",
       "      <td>1</td>\n",
       "      <td>0</td>\n",
       "      <td>1</td>\n",
       "      <td>True</td>\n",
       "      <td>False</td>\n",
       "      <td>1</td>\n",
       "      <td>0</td>\n",
       "    </tr>\n",
       "    <tr>\n",
       "      <th>2</th>\n",
       "      <td>2017</td>\n",
       "      <td>БВИ</td>\n",
       "      <td>98.0</td>\n",
       "      <td>94.0</td>\n",
       "      <td>86.0</td>\n",
       "      <td>4.0</td>\n",
       "      <td>NaN</td>\n",
       "      <td>NaN</td>\n",
       "      <td>NaN</td>\n",
       "      <td>NaN</td>\n",
       "      <td>...</td>\n",
       "      <td>NaN</td>\n",
       "      <td>NaN</td>\n",
       "      <td>1</td>\n",
       "      <td>0</td>\n",
       "      <td>1</td>\n",
       "      <td>0</td>\n",
       "      <td>True</td>\n",
       "      <td>False</td>\n",
       "      <td>1</td>\n",
       "      <td>0</td>\n",
       "    </tr>\n",
       "    <tr>\n",
       "      <th>3</th>\n",
       "      <td>2017</td>\n",
       "      <td>БВИ</td>\n",
       "      <td>84.0</td>\n",
       "      <td>84.0</td>\n",
       "      <td>72.0</td>\n",
       "      <td>6.0</td>\n",
       "      <td>NaN</td>\n",
       "      <td>9.0</td>\n",
       "      <td>8.0</td>\n",
       "      <td>NaN</td>\n",
       "      <td>...</td>\n",
       "      <td>NaN</td>\n",
       "      <td>NaN</td>\n",
       "      <td>1</td>\n",
       "      <td>0</td>\n",
       "      <td>1</td>\n",
       "      <td>0</td>\n",
       "      <td>True</td>\n",
       "      <td>False</td>\n",
       "      <td>1</td>\n",
       "      <td>0</td>\n",
       "    </tr>\n",
       "    <tr>\n",
       "      <th>4</th>\n",
       "      <td>2017</td>\n",
       "      <td>БВИ</td>\n",
       "      <td>96.0</td>\n",
       "      <td>100.0</td>\n",
       "      <td>91.0</td>\n",
       "      <td>10.0</td>\n",
       "      <td>NaN</td>\n",
       "      <td>8.0</td>\n",
       "      <td>10.0</td>\n",
       "      <td>NaN</td>\n",
       "      <td>...</td>\n",
       "      <td>NaN</td>\n",
       "      <td>NaN</td>\n",
       "      <td>0</td>\n",
       "      <td>1</td>\n",
       "      <td>0</td>\n",
       "      <td>1</td>\n",
       "      <td>True</td>\n",
       "      <td>False</td>\n",
       "      <td>1</td>\n",
       "      <td>0</td>\n",
       "    </tr>\n",
       "    <tr>\n",
       "      <th>...</th>\n",
       "      <td>...</td>\n",
       "      <td>...</td>\n",
       "      <td>...</td>\n",
       "      <td>...</td>\n",
       "      <td>...</td>\n",
       "      <td>...</td>\n",
       "      <td>...</td>\n",
       "      <td>...</td>\n",
       "      <td>...</td>\n",
       "      <td>...</td>\n",
       "      <td>...</td>\n",
       "      <td>...</td>\n",
       "      <td>...</td>\n",
       "      <td>...</td>\n",
       "      <td>...</td>\n",
       "      <td>...</td>\n",
       "      <td>...</td>\n",
       "      <td>...</td>\n",
       "      <td>...</td>\n",
       "      <td>...</td>\n",
       "      <td>...</td>\n",
       "    </tr>\n",
       "    <tr>\n",
       "      <th>308</th>\n",
       "      <td>2019</td>\n",
       "      <td>Контракт</td>\n",
       "      <td>86.0</td>\n",
       "      <td>84.0</td>\n",
       "      <td>89.0</td>\n",
       "      <td>8.0</td>\n",
       "      <td>283.0</td>\n",
       "      <td>4.0</td>\n",
       "      <td>8.0</td>\n",
       "      <td>NaN</td>\n",
       "      <td>...</td>\n",
       "      <td>1.0</td>\n",
       "      <td>NaN</td>\n",
       "      <td>0</td>\n",
       "      <td>0</td>\n",
       "      <td>0</td>\n",
       "      <td>0</td>\n",
       "      <td>True</td>\n",
       "      <td>False</td>\n",
       "      <td>0</td>\n",
       "      <td>1</td>\n",
       "    </tr>\n",
       "    <tr>\n",
       "      <th>309</th>\n",
       "      <td>2019</td>\n",
       "      <td>Контракт</td>\n",
       "      <td>92.0</td>\n",
       "      <td>91.0</td>\n",
       "      <td>94.0</td>\n",
       "      <td>4.0</td>\n",
       "      <td>281.0</td>\n",
       "      <td>8.0</td>\n",
       "      <td>3.0</td>\n",
       "      <td>NaN</td>\n",
       "      <td>...</td>\n",
       "      <td>NaN</td>\n",
       "      <td>NaN</td>\n",
       "      <td>0</td>\n",
       "      <td>0</td>\n",
       "      <td>0</td>\n",
       "      <td>0</td>\n",
       "      <td>True</td>\n",
       "      <td>False</td>\n",
       "      <td>0</td>\n",
       "      <td>1</td>\n",
       "    </tr>\n",
       "    <tr>\n",
       "      <th>310</th>\n",
       "      <td>2019</td>\n",
       "      <td>Контракт</td>\n",
       "      <td>88.0</td>\n",
       "      <td>91.0</td>\n",
       "      <td>89.0</td>\n",
       "      <td>10.0</td>\n",
       "      <td>278.0</td>\n",
       "      <td>4.0</td>\n",
       "      <td>4.0</td>\n",
       "      <td>1.0</td>\n",
       "      <td>...</td>\n",
       "      <td>NaN</td>\n",
       "      <td>NaN</td>\n",
       "      <td>1</td>\n",
       "      <td>0</td>\n",
       "      <td>0</td>\n",
       "      <td>0</td>\n",
       "      <td>False</td>\n",
       "      <td>True</td>\n",
       "      <td>0</td>\n",
       "      <td>1</td>\n",
       "    </tr>\n",
       "    <tr>\n",
       "      <th>311</th>\n",
       "      <td>2019</td>\n",
       "      <td>Контракт</td>\n",
       "      <td>94.0</td>\n",
       "      <td>81.0</td>\n",
       "      <td>94.0</td>\n",
       "      <td>2.0</td>\n",
       "      <td>271.0</td>\n",
       "      <td>6.0</td>\n",
       "      <td>5.0</td>\n",
       "      <td>NaN</td>\n",
       "      <td>...</td>\n",
       "      <td>1.0</td>\n",
       "      <td>2.0</td>\n",
       "      <td>0</td>\n",
       "      <td>1</td>\n",
       "      <td>0</td>\n",
       "      <td>0</td>\n",
       "      <td>True</td>\n",
       "      <td>False</td>\n",
       "      <td>0</td>\n",
       "      <td>1</td>\n",
       "    </tr>\n",
       "    <tr>\n",
       "      <th>312</th>\n",
       "      <td>2019</td>\n",
       "      <td>Контракт</td>\n",
       "      <td>96.0</td>\n",
       "      <td>84.0</td>\n",
       "      <td>91.0</td>\n",
       "      <td>3.0</td>\n",
       "      <td>274.0</td>\n",
       "      <td>9.0</td>\n",
       "      <td>9.0</td>\n",
       "      <td>NaN</td>\n",
       "      <td>...</td>\n",
       "      <td>2.0</td>\n",
       "      <td>1.0</td>\n",
       "      <td>0</td>\n",
       "      <td>0</td>\n",
       "      <td>0</td>\n",
       "      <td>0</td>\n",
       "      <td>True</td>\n",
       "      <td>False</td>\n",
       "      <td>0</td>\n",
       "      <td>1</td>\n",
       "    </tr>\n",
       "  </tbody>\n",
       "</table>\n",
       "<p>313 rows × 22 columns</p>\n",
       "</div>"
      ],
      "text/plain": [
       "     admission_year admission_condition  exam_math  exam_inf  exam_rus  \\\n",
       "id                                                                       \n",
       "0              2017                 БВИ       88.0     100.0      88.0   \n",
       "1              2017                 БВИ        NaN       NaN       NaN   \n",
       "2              2017                 БВИ       98.0      94.0      86.0   \n",
       "3              2017                 БВИ       84.0      84.0      72.0   \n",
       "4              2017                 БВИ       96.0     100.0      91.0   \n",
       "..              ...                 ...        ...       ...       ...   \n",
       "308            2019            Контракт       86.0      84.0      89.0   \n",
       "309            2019            Контракт       92.0      91.0      94.0   \n",
       "310            2019            Контракт       88.0      91.0      89.0   \n",
       "311            2019            Контракт       94.0      81.0      94.0   \n",
       "312            2019            Контракт       96.0      84.0      91.0   \n",
       "\n",
       "     individual_achievements  exam_sum  student_mark_math  student_mark_inf  \\\n",
       "id                                                                            \n",
       "0                       10.0     310.0                9.0               NaN   \n",
       "1                        NaN       NaN                NaN               NaN   \n",
       "2                        4.0       NaN                NaN               NaN   \n",
       "3                        6.0       NaN                9.0               8.0   \n",
       "4                       10.0       NaN                8.0              10.0   \n",
       "..                       ...       ...                ...               ...   \n",
       "308                      8.0     283.0                4.0               8.0   \n",
       "309                      4.0     281.0                8.0               3.0   \n",
       "310                     10.0     278.0                4.0               4.0   \n",
       "311                      2.0     271.0                6.0               5.0   \n",
       "312                      3.0     274.0                9.0               9.0   \n",
       "\n",
       "     expulsion_sem  ...  retakes_number_after_first_sem  \\\n",
       "id                  ...                                   \n",
       "0              NaN  ...                             NaN   \n",
       "1              NaN  ...                             NaN   \n",
       "2              NaN  ...                             NaN   \n",
       "3              NaN  ...                             NaN   \n",
       "4              NaN  ...                             NaN   \n",
       "..             ...  ...                             ...   \n",
       "308            NaN  ...                             1.0   \n",
       "309            NaN  ...                             NaN   \n",
       "310            1.0  ...                             NaN   \n",
       "311            NaN  ...                             1.0   \n",
       "312            NaN  ...                             2.0   \n",
       "\n",
       "     retakes_number_after_second_sem  math_olymp_100  inf_olymp_100  \\\n",
       "id                                                                    \n",
       "0                                NaN               0              1   \n",
       "1                                NaN               0              1   \n",
       "2                                NaN               1              0   \n",
       "3                                NaN               1              0   \n",
       "4                                NaN               0              1   \n",
       "..                               ...             ...            ...   \n",
       "308                              NaN               0              0   \n",
       "309                              NaN               0              0   \n",
       "310                              NaN               1              0   \n",
       "311                              2.0               0              1   \n",
       "312                              1.0               0              0   \n",
       "\n",
       "     math_olymp_bvi  inf_olymp_bvi  success   fail  good_admission_condition  \\\n",
       "id                                                                             \n",
       "0                 0              1     True  False                         1   \n",
       "1                 0              1     True  False                         1   \n",
       "2                 1              0     True  False                         1   \n",
       "3                 1              0     True  False                         1   \n",
       "4                 0              1     True  False                         1   \n",
       "..              ...            ...      ...    ...                       ...   \n",
       "308               0              0     True  False                         0   \n",
       "309               0              0     True  False                         0   \n",
       "310               0              0    False   True                         0   \n",
       "311               0              0     True  False                         0   \n",
       "312               0              0     True  False                         0   \n",
       "\n",
       "     bad_admission_condition  \n",
       "id                            \n",
       "0                          0  \n",
       "1                          0  \n",
       "2                          0  \n",
       "3                          0  \n",
       "4                          0  \n",
       "..                       ...  \n",
       "308                        1  \n",
       "309                        1  \n",
       "310                        1  \n",
       "311                        1  \n",
       "312                        1  \n",
       "\n",
       "[313 rows x 22 columns]"
      ]
     },
     "execution_count": 11,
     "metadata": {},
     "output_type": "execute_result"
    }
   ],
   "source": [
    "df"
   ]
  },
  {
   "cell_type": "code",
   "execution_count": 12,
   "id": "a6689503",
   "metadata": {},
   "outputs": [],
   "source": [
    "expulsion = df.expulsion_sem.fillna(0).astype(np.int16)\n",
    "expulsion.loc[expulsion > 3] = 0"
   ]
  },
  {
   "cell_type": "code",
   "execution_count": 13,
   "id": "3738f61f",
   "metadata": {},
   "outputs": [],
   "source": [
    "features = [\n",
    "    \"exam_math\",\n",
    "    \"exam_inf\",\n",
    "    \"exam_rus\",\n",
    "    \"individual_achievements\",\n",
    "    \"student_mark_math\",\n",
    "    \"student_mark_inf\",\n",
    "    'math_olymp_100',\n",
    "    'inf_olymp_100', \n",
    "    'math_olymp_bvi', \n",
    "    'inf_olymp_bvi',\n",
    "    'good_admission_condition'\n",
    "]\n",
    "cat_features = [\n",
    "    'math_olymp_100',\n",
    "    'inf_olymp_100', \n",
    "    'math_olymp_bvi', \n",
    "    'inf_olymp_bvi',\n",
    "    'good_admission_condition'\n",
    "]\n",
    "not_cat_features = [\n",
    "    \"exam_math\",\n",
    "    \"exam_inf\",\n",
    "    \"exam_rus\",\n",
    "    \"individual_achievements\",\n",
    "    \"student_mark_math\",\n",
    "    \"student_mark_inf\"\n",
    "]"
   ]
  },
  {
   "cell_type": "markdown",
   "id": "c8359183",
   "metadata": {},
   "source": [
    "Fill `NaN` in feature columns"
   ]
  },
  {
   "cell_type": "code",
   "execution_count": 14,
   "id": "0b472eaf",
   "metadata": {},
   "outputs": [],
   "source": [
    "X = df[features]\n",
    "y = pd.Series(~df.expulsion_sem.isnull(), dtype=np.int16)\n",
    "X_train, X_test, y_train, y_test = train_test_split(X, y, test_size=0.2, stratify=y)"
   ]
  },
  {
   "cell_type": "code",
   "execution_count": 15,
   "id": "42260ee8",
   "metadata": {},
   "outputs": [
    {
     "name": "stdout",
     "output_type": "stream",
     "text": [
      "exam_math: 22 missing values\n",
      "exam_inf: 23 missing values\n",
      "exam_rus: 22 missing values\n",
      "individual_achievements: 23 missing values\n",
      "student_mark_math: 113 missing values\n",
      "student_mark_inf: 119 missing values\n",
      "math_olymp_100: 0 missing values\n",
      "inf_olymp_100: 0 missing values\n",
      "math_olymp_bvi: 0 missing values\n",
      "inf_olymp_bvi: 0 missing values\n",
      "good_admission_condition: 0 missing values\n"
     ]
    }
   ],
   "source": [
    "mean_val = dict()\n",
    "X_filled = X.copy()\n",
    "for feature in features:\n",
    "    mean_val[feature] = X_filled[feature].dropna().mean()\n",
    "    print(f\"{feature}: {X_filled[feature].isnull().sum()} missing values\")\n",
    "    X_filled.loc[X_filled[feature].isnull(), feature] = mean_val[feature]"
   ]
  },
  {
   "cell_type": "markdown",
   "id": "c286b6fd",
   "metadata": {},
   "source": [
    "Prepare normalized data, calc mean and standard deviation among all feature columns"
   ]
  },
  {
   "cell_type": "code",
   "execution_count": 16,
   "id": "20f08e73",
   "metadata": {},
   "outputs": [],
   "source": [
    "X_filled_train, X_filled_test, y_filled_train, y_filled_test = train_test_split(\n",
    "    X_filled, y, test_size=0.2, stratify=y, random_state=69)"
   ]
  },
  {
   "cell_type": "code",
   "execution_count": 17,
   "id": "d1fabcaa",
   "metadata": {},
   "outputs": [],
   "source": [
    "X_train_norm = pd.DataFrame(data=StandardScaler().fit_transform(X_filled_train[not_cat_features]), columns=not_cat_features)\n",
    "X_test_norm = pd.DataFrame(data=StandardScaler().fit_transform(X_filled_test[not_cat_features]), columns=not_cat_features)\n",
    "X_train_norm[cat_features] = X_filled_train.reset_index()[cat_features]\n",
    "X_test_norm[cat_features] = X_filled_test.reset_index()[cat_features]"
   ]
  },
  {
   "cell_type": "code",
   "execution_count": 18,
   "id": "6ab2b5da",
   "metadata": {},
   "outputs": [],
   "source": [
    "def run_cross_validation(clf, X=None, y=None):\n",
    "    if X is None:\n",
    "        X = X_test_norm\n",
    "    if y is None:\n",
    "        y = y_filled_test\n",
    "    print(\"Test score:\")\n",
    "    print(f\"Precision: {metrics.precision_score(y, clf.predict(X)):.4f}\")\n",
    "    print(f\"Recall: {metrics.recall_score(y, clf.predict(X)):.4f}\")\n",
    "    print(f\"f1: {metrics.f1_score(y, clf.predict(X)):.4f}\")\n",
    "\n",
    "\n",
    "def pipeline(clf, params, scoring='f1'):\n",
    "    grid_clf = GridSearchCV(clf, params, scoring=scoring)\n",
    "    grid_clf = grid_clf.fit(X_train_norm, y_filled_train)\n",
    "    run_cross_validation(grid_clf.best_estimator_)\n",
    "    return grid_clf.best_estimator_"
   ]
  },
  {
   "cell_type": "markdown",
   "id": "937f8e03",
   "metadata": {},
   "source": [
    "# 1. Linear model"
   ]
  },
  {
   "cell_type": "code",
   "execution_count": 19,
   "id": "06d8206b",
   "metadata": {},
   "outputs": [],
   "source": [
    "from sklearn.linear_model import LogisticRegression"
   ]
  },
  {
   "cell_type": "markdown",
   "id": "f5b7af9d",
   "metadata": {},
   "source": [
    "Выбираем параметры перебором\n",
    "\n",
    "`penalty`: тип регуляризации\n",
    "\n",
    "`C`: коэффициент перед регуляризатором\n",
    "\n",
    "`class_weight`: веса классов обратно пропорциональны их частоте (это нужно, так как отчисленных мало, классы неравноправны)"
   ]
  },
  {
   "cell_type": "code",
   "execution_count": 20,
   "id": "1c0ce709",
   "metadata": {},
   "outputs": [],
   "source": [
    "params = {\n",
    "    'penalty': ('l2', 'l1'),\n",
    "    'C': (1, 5, 10, 100, 200, 500, 1000, 2000, 5000),\n",
    "    'class_weight': ('balanced', None),\n",
    "    'max_iter': (500, 1000, 10000, 50000)\n",
    "}"
   ]
  },
  {
   "cell_type": "code",
   "execution_count": 21,
   "id": "2bf9e721",
   "metadata": {},
   "outputs": [
    {
     "name": "stdout",
     "output_type": "stream",
     "text": [
      "Test score:\n",
      "Precision: 0.3750\n",
      "Recall: 0.7500\n",
      "f1: 0.5000\n"
     ]
    }
   ],
   "source": [
    "logreg = pipeline(\n",
    "    LogisticRegression(solver=\"liblinear\", max_iter=50000),\n",
    "    params\n",
    ")"
   ]
  },
  {
   "cell_type": "code",
   "execution_count": 22,
   "id": "85ae56d8",
   "metadata": {},
   "outputs": [
    {
     "data": {
      "image/png": "[encoded data removed]",
      "text/plain": [
       "<Figure size 1296x432 with 2 Axes>"
      ]
     },
     "metadata": {
      "needs_background": "light"
     },
     "output_type": "display_data"
    }
   ],
   "source": [
    "fig, ax = plt.subplots(1, 2, figsize=(18, 6))\n",
    "metrics.plot_roc_curve(logreg, X_test_norm, y_filled_test, ax=ax[0])\n",
    "ax[0].plot(np.linspace(0, 1, 100), np.linspace(0, 1, 100), label=\"baseline\")\n",
    "ax[0].set_title(\"ROC-curve\")\n",
    "ax[0].legend()\n",
    "metrics.plot_precision_recall_curve(logreg, X_test_norm, y_filled_test, ax=ax[1])\n",
    "ax[1].set_title(\"PR-curve\")\n",
    "ax[1].plot(np.linspace(0, 1, 100), np.full(100, (y_test == 1).mean()), label=\"baseline\")\n",
    "ax[1].legend()\n",
    "plt.savefig(\"logreg.png\", dpi=300)\n",
    "plt.show()"
   ]
  },
  {
   "cell_type": "code",
   "execution_count": 23,
   "id": "423066d3",
   "metadata": {},
   "outputs": [
    {
     "data": {
      "text/html": [
       "<div>\n",
       "<style scoped>\n",
       "    .dataframe tbody tr th:only-of-type {\n",
       "        vertical-align: middle;\n",
       "    }\n",
       "\n",
       "    .dataframe tbody tr th {\n",
       "        vertical-align: top;\n",
       "    }\n",
       "\n",
       "    .dataframe thead th {\n",
       "        text-align: right;\n",
       "    }\n",
       "</style>\n",
       "<table border=\"1\" class=\"dataframe\">\n",
       "  <thead>\n",
       "    <tr style=\"text-align: right;\">\n",
       "      <th></th>\n",
       "      <th>0</th>\n",
       "    </tr>\n",
       "  </thead>\n",
       "  <tbody>\n",
       "    <tr>\n",
       "      <th>exam_math</th>\n",
       "      <td>-0.146716</td>\n",
       "    </tr>\n",
       "    <tr>\n",
       "      <th>exam_inf</th>\n",
       "      <td>-0.401687</td>\n",
       "    </tr>\n",
       "    <tr>\n",
       "      <th>exam_rus</th>\n",
       "      <td>-0.108559</td>\n",
       "    </tr>\n",
       "    <tr>\n",
       "      <th>individual_achievements</th>\n",
       "      <td>-0.285048</td>\n",
       "    </tr>\n",
       "    <tr>\n",
       "      <th>student_mark_math</th>\n",
       "      <td>-0.137016</td>\n",
       "    </tr>\n",
       "    <tr>\n",
       "      <th>student_mark_inf</th>\n",
       "      <td>-0.218957</td>\n",
       "    </tr>\n",
       "    <tr>\n",
       "      <th>math_olymp_100</th>\n",
       "      <td>0.441065</td>\n",
       "    </tr>\n",
       "    <tr>\n",
       "      <th>inf_olymp_100</th>\n",
       "      <td>-1.984152</td>\n",
       "    </tr>\n",
       "    <tr>\n",
       "      <th>math_olymp_bvi</th>\n",
       "      <td>0.401741</td>\n",
       "    </tr>\n",
       "    <tr>\n",
       "      <th>inf_olymp_bvi</th>\n",
       "      <td>0.000000</td>\n",
       "    </tr>\n",
       "    <tr>\n",
       "      <th>good_admission_condition</th>\n",
       "      <td>-0.411548</td>\n",
       "    </tr>\n",
       "  </tbody>\n",
       "</table>\n",
       "</div>"
      ],
      "text/plain": [
       "                                 0\n",
       "exam_math                -0.146716\n",
       "exam_inf                 -0.401687\n",
       "exam_rus                 -0.108559\n",
       "individual_achievements  -0.285048\n",
       "student_mark_math        -0.137016\n",
       "student_mark_inf         -0.218957\n",
       "math_olymp_100            0.441065\n",
       "inf_olymp_100            -1.984152\n",
       "math_olymp_bvi            0.401741\n",
       "inf_olymp_bvi             0.000000\n",
       "good_admission_condition -0.411548"
      ]
     },
     "execution_count": 23,
     "metadata": {},
     "output_type": "execute_result"
    }
   ],
   "source": [
    "pd.DataFrame(logreg.coef_, columns=features).T"
   ]
  },
  {
   "cell_type": "code",
   "execution_count": 24,
   "id": "de01f013",
   "metadata": {},
   "outputs": [
    {
     "data": {
      "text/plain": [
       "LogisticRegression(C=1, class_weight='balanced', max_iter=500, penalty='l1',\n",
       "                   solver='liblinear')"
      ]
     },
     "execution_count": 24,
     "metadata": {},
     "output_type": "execute_result"
    }
   ],
   "source": [
    "logreg"
   ]
  },
  {
   "cell_type": "markdown",
   "id": "52dd2025",
   "metadata": {},
   "source": [
    "### Multiclass"
   ]
  },
  {
   "cell_type": "code",
   "execution_count": 25,
   "id": "e9ea2d62",
   "metadata": {},
   "outputs": [],
   "source": [
    "def pipeline_multiclass(clf, params, X, y, scoring):\n",
    "    X_train, X_test, y_train, y_test = train_test_split(X, y, test_size=0.2, stratify=y)\n",
    "    grid_clf = GridSearchCV(clf, params, scoring=scoring)\n",
    "    grid_clf.fit(X_train, y_train)\n",
    "    return grid_clf.best_estimator_, X_test, y_test"
   ]
  },
  {
   "cell_type": "code",
   "execution_count": 26,
   "id": "64b202d2",
   "metadata": {},
   "outputs": [],
   "source": [
    "params = {\n",
    "    'penalty': ('l2', 'l1'),\n",
    "    'C': (1, 5, 10, 100, 200, 500, 1000, 2000, 5000),\n",
    "    'class_weight': ('balanced', None),\n",
    "    'max_iter': (500, 1000, 10000, 50000)\n",
    "}"
   ]
  },
  {
   "cell_type": "code",
   "execution_count": 27,
   "id": "e6dc8a75",
   "metadata": {},
   "outputs": [],
   "source": [
    "multiclass_logreg, X_multiclass_logreg_test, y_multiclass_logreg_test = pipeline_multiclass(\n",
    "    LogisticRegression(solver=\"liblinear\", max_iter=1000),\n",
    "    params,\n",
    "    X_filled,\n",
    "    expulsion,\n",
    "    \"f1_macro\"\n",
    ")"
   ]
  },
  {
   "cell_type": "code",
   "execution_count": 28,
   "id": "587d23a7",
   "metadata": {},
   "outputs": [],
   "source": [
    "y_pred = multiclass_logreg.predict(X_multiclass_logreg_test)"
   ]
  },
  {
   "cell_type": "code",
   "execution_count": 29,
   "id": "abc7e74f",
   "metadata": {},
   "outputs": [
    {
     "name": "stdout",
     "output_type": "stream",
     "text": [
      "f1_macro: 0.2227\n",
      "precision_macro: 0.2227\n",
      "recall_macro: 0.2227\n"
     ]
    }
   ],
   "source": [
    "print(f\"f1_macro: {metrics.f1_score(y_multiclass_logreg_test, y_pred, average='macro'):.4f}\")\n",
    "print(f\"precision_macro: {metrics.precision_score(y_multiclass_logreg_test, y_pred, average='macro'):.4f}\")\n",
    "print(f\"recall_macro: {metrics.recall_score(y_multiclass_logreg_test, y_pred, average='macro'):.4f}\")"
   ]
  },
  {
   "cell_type": "code",
   "execution_count": 30,
   "id": "9e3daf06",
   "metadata": {},
   "outputs": [
    {
     "data": {
      "text/plain": [
       "LogisticRegression(C=200, class_weight='balanced', max_iter=500,\n",
       "                   solver='liblinear')"
      ]
     },
     "execution_count": 30,
     "metadata": {},
     "output_type": "execute_result"
    }
   ],
   "source": [
    "multiclass_logreg"
   ]
  },
  {
   "cell_type": "markdown",
   "id": "cce21f55",
   "metadata": {},
   "source": [
    "# 2. Gradient Boosting"
   ]
  },
  {
   "cell_type": "code",
   "execution_count": 31,
   "id": "a64bb92f",
   "metadata": {},
   "outputs": [],
   "source": [
    "from sklearn.ensemble import GradientBoostingClassifier"
   ]
  },
  {
   "cell_type": "code",
   "execution_count": 34,
   "id": "b5d745d5",
   "metadata": {},
   "outputs": [],
   "source": [
    "params = {\n",
    "    'loss': ('deviance', 'exponential'),\n",
    "    'learning_rate': (0.1, 0.03),\n",
    "    'n_estimators': (100, 500),\n",
    "    'min_samples_split': (2, 5, 7),\n",
    "    'max_depth': (1, 5, 9)\n",
    "}"
   ]
  },
  {
   "cell_type": "code",
   "execution_count": 35,
   "id": "7eafd6a7",
   "metadata": {},
   "outputs": [
    {
     "name": "stdout",
     "output_type": "stream",
     "text": [
      "Test score:\n",
      "Precision: 0.3750\n",
      "Recall: 0.2500\n",
      "f1: 0.3000\n"
     ]
    }
   ],
   "source": [
    "boosting = pipeline(\n",
    "    GradientBoostingClassifier(warm_start=True, random_state=42, max_features='sqrt'),\n",
    "    params\n",
    ")"
   ]
  },
  {
   "cell_type": "code",
   "execution_count": 37,
   "id": "4175eae9",
   "metadata": {},
   "outputs": [
    {
     "data": {
      "image/png": "[encoded data removed]",
      "text/plain": [
       "<Figure size 1296x432 with 2 Axes>"
      ]
     },
     "metadata": {
      "needs_background": "light"
     },
     "output_type": "display_data"
    }
   ],
   "source": [
    "fig, ax = plt.subplots(1, 2, figsize=(18, 6))\n",
    "metrics.plot_roc_curve(boosting, X_test_norm, y_filled_test, ax=ax[0])\n",
    "ax[0].plot(np.linspace(0, 1, 100), np.linspace(0, 1, 100), label=\"baseline\")\n",
    "ax[0].set_title(\"ROC-curve\")\n",
    "ax[0].legend()\n",
    "metrics.plot_precision_recall_curve(boosting, X_test_norm, y_filled_test, ax=ax[1])\n",
    "ax[1].set_title(\"PR-curve\")\n",
    "ax[1].plot(np.linspace(0, 1, 100), np.full(100, (y_test == 1).mean()), label=\"baseline\")\n",
    "ax[1].legend()\n",
    "plt.savefig(\"gradient_boosting.png\", dpi=300)\n",
    "plt.show()"
   ]
  },
  {
   "cell_type": "code",
   "execution_count": 38,
   "id": "b4aaca73",
   "metadata": {},
   "outputs": [
    {
     "data": {
      "text/plain": [
       "{'ccp_alpha': 0.0,\n",
       " 'criterion': 'friedman_mse',\n",
       " 'init': None,\n",
       " 'learning_rate': 0.1,\n",
       " 'loss': 'exponential',\n",
       " 'max_depth': 5,\n",
       " 'max_features': 'sqrt',\n",
       " 'max_leaf_nodes': None,\n",
       " 'min_impurity_decrease': 0.0,\n",
       " 'min_impurity_split': None,\n",
       " 'min_samples_leaf': 1,\n",
       " 'min_samples_split': 5,\n",
       " 'min_weight_fraction_leaf': 0.0,\n",
       " 'n_estimators': 500,\n",
       " 'n_iter_no_change': None,\n",
       " 'random_state': 42,\n",
       " 'subsample': 1.0,\n",
       " 'tol': 0.0001,\n",
       " 'validation_fraction': 0.1,\n",
       " 'verbose': 0,\n",
       " 'warm_start': True}"
      ]
     },
     "execution_count": 38,
     "metadata": {},
     "output_type": "execute_result"
    }
   ],
   "source": [
    "boosting.get_params()"
   ]
  },
  {
   "cell_type": "markdown",
   "id": "ddb3ae88",
   "metadata": {},
   "source": [
    "### Multiclass"
   ]
  },
  {
   "cell_type": "code",
   "execution_count": 39,
   "id": "f5ea2224",
   "metadata": {},
   "outputs": [],
   "source": [
    "params = {\n",
    "    'learning_rate': (0.1, 0.03),\n",
    "    'n_estimators': (100,),\n",
    "    'min_samples_split': (2, 5),\n",
    "    'max_depth': (1, 6),\n",
    "    'max_features': ('auto', 'sqrt', 'log2')\n",
    "}"
   ]
  },
  {
   "cell_type": "code",
   "execution_count": 40,
   "id": "c94a2757",
   "metadata": {},
   "outputs": [],
   "source": [
    "multiclass_boosting, X_multiclass_boosting_test, y_multiclass_boosting_test = pipeline_multiclass(\n",
    "    GradientBoostingClassifier(warm_start=True, random_state=42, loss='deviance'),\n",
    "    params,\n",
    "    X_filled,\n",
    "    expulsion,\n",
    "    \"f1_macro\"\n",
    ")"
   ]
  },
  {
   "cell_type": "code",
   "execution_count": 41,
   "id": "712efe00",
   "metadata": {},
   "outputs": [
    {
     "name": "stdout",
     "output_type": "stream",
     "text": [
      "f1_macro: 0.2331\n",
      "precision_macro: 0.2183\n",
      "recall_macro: 0.2500\n"
     ]
    },
    {
     "name": "stderr",
     "output_type": "stream",
     "text": [
      "/usr/local/anaconda3/envs/py37/lib/python3.7/site-packages/sklearn/metrics/_classification.py:1245: UndefinedMetricWarning: Precision is ill-defined and being set to 0.0 in labels with no predicted samples. Use `zero_division` parameter to control this behavior.\n",
      "  _warn_prf(average, modifier, msg_start, len(result))\n"
     ]
    }
   ],
   "source": [
    "y_pred = multiclass_boosting.predict(X_multiclass_boosting_test)\n",
    "print(f\"f1_macro: {metrics.f1_score(y_multiclass_boosting_test, y_pred, average='macro'):.4f}\")\n",
    "print(f\"precision_macro: {metrics.precision_score(y_multiclass_boosting_test, y_pred, average='macro'):.4f}\")\n",
    "print(f\"recall_macro: {metrics.recall_score(y_multiclass_boosting_test, y_pred, average='macro'):.4f}\")"
   ]
  },
  {
   "cell_type": "code",
   "execution_count": 42,
   "id": "e58e1aea",
   "metadata": {},
   "outputs": [
    {
     "data": {
      "text/plain": [
       "GradientBoostingClassifier(learning_rate=0.03, max_depth=6, max_features='sqrt',\n",
       "                           min_samples_split=5, random_state=42,\n",
       "                           warm_start=True)"
      ]
     },
     "execution_count": 42,
     "metadata": {},
     "output_type": "execute_result"
    }
   ],
   "source": [
    "multiclass_boosting"
   ]
  },
  {
   "cell_type": "markdown",
   "id": "314af4a7",
   "metadata": {},
   "source": [
    "# 3. Catboost"
   ]
  },
  {
   "cell_type": "code",
   "execution_count": null,
   "id": "0c92b35b",
   "metadata": {},
   "outputs": [],
   "source": [
    "from catboost import CatBoostClassifier, Pool\n",
    "from catboost.utils import get_roc_curve"
   ]
  },
  {
   "cell_type": "code",
   "execution_count": null,
   "id": "c6316b97",
   "metadata": {},
   "outputs": [],
   "source": [
    "train_pool = Pool(X_train, y_train, cat_features=list(range(6, 11)), has_header=True)\n",
    "test_pool = Pool(X_test, y_test, cat_features=list(range(6, 11)), has_header=True)\n",
    "grid = {\n",
    "    'learning_rate': [0.003, 0.03, 0.1],\n",
    "    'depth': [1, 3, 5, 9],\n",
    "    'l2_leaf_reg': [1, 5, 9],\n",
    "    'iterations': [100, 500, 1000, 2000]\n",
    "}"
   ]
  },
  {
   "cell_type": "code",
   "execution_count": null,
   "id": "a62c24f3",
   "metadata": {
    "scrolled": true
   },
   "outputs": [],
   "source": [
    "catboost_model = CatBoostClassifier(logging_level=\"Silent\", eval_metric=\"F1\")\n",
    "grid_search_result = catboost_model.grid_search(grid,\n",
    "                                                X=train_pool,\n",
    "                                                stratified=True,\n",
    "                                                verbose=False)"
   ]
  },
  {
   "cell_type": "code",
   "execution_count": null,
   "id": "e04ec930",
   "metadata": {},
   "outputs": [],
   "source": [
    "print(\"Test score:\")\n",
    "print(f\"Precision: {precision_score(y_test, catboost_model.predict(X_test)):.4f}\")\n",
    "print(f\"Recall: {recall_score(y_test, catboost_model.predict(X_test)):.4f}\")\n",
    "print(f\"f1: {f1_score(y_test, catboost_model.predict(X_test)):.4f}\")"
   ]
  },
  {
   "cell_type": "code",
   "execution_count": null,
   "id": "fea19168",
   "metadata": {},
   "outputs": [],
   "source": [
    "fig, ax = plt.subplots(figsize=(12, 8))\n",
    "plot_roc_curve(catboost_model, X_test, y_test, ax=ax)\n",
    "plt.plot(np.linspace(0, 1, 100), np.linspace(0, 1, 100), label=\"baseline\")\n",
    "plt.legend()\n",
    "plt.show()"
   ]
  },
  {
   "cell_type": "code",
   "execution_count": null,
   "id": "f2908150",
   "metadata": {},
   "outputs": [],
   "source": [
    "fig, ax = plt.subplots(figsize=(12, 8))\n",
    "plot_precision_recall_curve(catboost_model, X_test, y_test, ax=ax)\n",
    "plt.plot(np.linspace(0, 1, 100), np.full(100, (y_test == 1).mean()), label=\"baseline\")\n",
    "plt.legend()\n",
    "plt.show()"
   ]
  },
  {
   "cell_type": "code",
   "execution_count": null,
   "id": "a530a5d3",
   "metadata": {
    "scrolled": true
   },
   "outputs": [],
   "source": [
    "catboost_model.get_params()"
   ]
  },
  {
   "cell_type": "markdown",
   "id": "6946257f",
   "metadata": {},
   "source": [
    "# 4. TorchNN"
   ]
  },
  {
   "cell_type": "code",
   "execution_count": null,
   "id": "94b84153",
   "metadata": {},
   "outputs": [],
   "source": [
    "import torch\n",
    "import torch.nn as nn\n",
    "import torch.nn.functional as F\n",
    "import torch.optim as optim\n",
    "\n",
    "from sklearn.metrics import roc_curve, auc, roc_auc_score\n",
    "from tqdm import trange"
   ]
  },
  {
   "cell_type": "code",
   "execution_count": null,
   "id": "568a62ad",
   "metadata": {},
   "outputs": [],
   "source": [
    "class Model(nn.Module):\n",
    "    def __init__(self):\n",
    "        super().__init__()\n",
    "        input_size = 11\n",
    "        hidden_size = 1000\n",
    "        output_size = 2\n",
    "        self.fc1 = nn.Linear(input_size, hidden_size)\n",
    "        self.fc2 = nn.Linear(hidden_size, hidden_size)\n",
    "        self.bn1 = nn.BatchNorm1d(hidden_size)\n",
    "        self.fc3 = nn.Linear(hidden_size, hidden_size)\n",
    "        self.fc4 = nn.Linear(hidden_size, hidden_size)\n",
    "        self.bn2 = nn.BatchNorm1d(hidden_size)\n",
    "        self.fc5 = nn.Linear(hidden_size, hidden_size)\n",
    "        self.fc6 = nn.Linear(hidden_size, hidden_size)\n",
    "        self.bn3 = nn.BatchNorm1d(hidden_size)\n",
    "        self.fc7 = nn.Linear(hidden_size, output_size)\n",
    "    \n",
    "    def forward(self, x):\n",
    "        x = F.relu(self.fc1(x))\n",
    "        x = F.relu(self.fc2(x))\n",
    "        x = F.relu(self.fc3(x))\n",
    "        x = F.relu(self.fc4(x))\n",
    "        x = F.relu(self.fc5(x))\n",
    "        x = F.relu(self.fc6(x))\n",
    "        x = self.fc7(x)\n",
    "        return x\n",
    "\n",
    "net = Model()"
   ]
  },
  {
   "cell_type": "code",
   "execution_count": null,
   "id": "003ba250",
   "metadata": {},
   "outputs": [],
   "source": [
    "criterion = nn.CrossEntropyLoss(reduction='mean')\n",
    "optimizer = optim.SGD(net.parameters(), lr=0.003)"
   ]
  },
  {
   "cell_type": "code",
   "execution_count": null,
   "id": "25242f13",
   "metadata": {},
   "outputs": [],
   "source": [
    "X_train_nn = torch.tensor(X_train_norm.to_numpy(), dtype=torch.float)\n",
    "X_test_nn = torch.tensor(X_test_norm.to_numpy(), dtype=torch.float)\n",
    "y_train_nn = torch.tensor(y_filled_train.to_numpy(), dtype=torch.long)\n",
    "y_test_nn = torch.tensor(y_filled_test.to_numpy(), dtype=torch.long)"
   ]
  },
  {
   "cell_type": "code",
   "execution_count": null,
   "id": "fd34c9c1",
   "metadata": {},
   "outputs": [],
   "source": [
    "train_losses = []\n",
    "test_losses = []\n",
    "for epoch in trange(1000):\n",
    "    optimizer.zero_grad()\n",
    "    y_pred = net(X_train_nn)\n",
    "    train_loss = criterion(y_pred, y_train_nn)\n",
    "    train_losses.append(train_loss.item())\n",
    "    train_loss.backward()\n",
    "    optimizer.step()\n",
    "    optimizer.zero_grad()\n",
    "    with torch.no_grad():\n",
    "        test_losses.append(criterion(net(X_test_nn), y_test_nn).item())"
   ]
  },
  {
   "cell_type": "code",
   "execution_count": null,
   "id": "8b2dc165",
   "metadata": {
    "scrolled": false
   },
   "outputs": [],
   "source": [
    "plt.figure(figsize=(12, 8))\n",
    "grid = np.arange(1, 1 + len(test_losses))\n",
    "plt.plot(\n",
    "    grid,\n",
    "    train_losses,\n",
    "    label=\"train loss\"\n",
    ")\n",
    "plt.plot(\n",
    "    grid,\n",
    "    test_losses,\n",
    "    label=\"test loss\"\n",
    ")\n",
    "plt.xlabel(\"epoch\")\n",
    "plt.ylabel(\"loss\")\n",
    "plt.legend()\n",
    "plt.show()"
   ]
  },
  {
   "cell_type": "code",
   "execution_count": null,
   "id": "21eb0481",
   "metadata": {},
   "outputs": [],
   "source": [
    "y_pred = nn.Softmax(dim=1)(net(X_test_nn)).argmax(dim=1).numpy()"
   ]
  },
  {
   "cell_type": "code",
   "execution_count": null,
   "id": "56d6cb7c",
   "metadata": {},
   "outputs": [],
   "source": [
    "print(\"Test score:\")\n",
    "print(f\"Precision: {precision_score(y_test, y_pred):.4f}\")\n",
    "print(f\"Recall: {recall_score(y_test, y_pred):.4f}\")\n",
    "print(f\"f1: {f1_score(y_test, y_pred):.4f}\")"
   ]
  },
  {
   "cell_type": "code",
   "execution_count": null,
   "id": "a5d10d1e",
   "metadata": {},
   "outputs": [],
   "source": [
    "fpr, tpr, _ = roc_curve(y_test, y_pred)\n",
    "fig, ax = plt.subplots(figsize=(12, 8))\n",
    "ax.plot(fpr, tpr, label=f\"NN (AUC = {round(auc(fpr, tpr), 2)})\")\n",
    "plt.plot(np.linspace(0, 1, 100), np.linspace(0, 1, 100), label=\"baseline\")\n",
    "plt.legend()\n",
    "plt.show()"
   ]
  },
  {
   "cell_type": "markdown",
   "id": "c07999ea",
   "metadata": {},
   "source": [
    "# 5. PCA"
   ]
  },
  {
   "cell_type": "code",
   "execution_count": 43,
   "id": "96fb8593",
   "metadata": {},
   "outputs": [],
   "source": [
    "from sklearn.decomposition import PCA"
   ]
  },
  {
   "cell_type": "code",
   "execution_count": 44,
   "id": "b9a09f8c",
   "metadata": {},
   "outputs": [],
   "source": [
    "pca = PCA(7).fit(X_train_norm)\n",
    "X_train_pca = pca.transform(X_train_norm)\n",
    "X_test_pca = pca.transform(X_test_norm)"
   ]
  },
  {
   "cell_type": "code",
   "execution_count": 45,
   "id": "9d39b5c4",
   "metadata": {},
   "outputs": [],
   "source": [
    "params = {\n",
    "    'penalty': ('l2', 'l1'),\n",
    "    'C': (1, 5, 10, 100, 200, 500, 1000, 2000, 5000),\n",
    "    'class_weight': ('balanced', None)\n",
    "}"
   ]
  },
  {
   "cell_type": "code",
   "execution_count": 46,
   "id": "3d7f7d29",
   "metadata": {},
   "outputs": [],
   "source": [
    "grid_clf = GridSearchCV(LogisticRegression(solver=\"liblinear\", max_iter=50000), params, scoring=\"f1\")\n",
    "grid_clf = grid_clf.fit(X_train_pca, y_filled_train)"
   ]
  },
  {
   "cell_type": "code",
   "execution_count": 47,
   "id": "0097a825",
   "metadata": {},
   "outputs": [],
   "source": [
    "clf = grid_clf.best_estimator_"
   ]
  },
  {
   "cell_type": "code",
   "execution_count": 48,
   "id": "a154c5bd",
   "metadata": {},
   "outputs": [
    {
     "name": "stdout",
     "output_type": "stream",
     "text": [
      "Test score:\n",
      "Precision: 0.4545\n",
      "Recall: 0.8333\n",
      "f1: 0.5882\n"
     ]
    }
   ],
   "source": [
    "print(\"Test score:\")\n",
    "print(f\"Precision: {metrics.precision_score(y_filled_test, clf.predict(X_test_pca)):.4f}\")\n",
    "print(f\"Recall: {metrics.recall_score(y_filled_test, clf.predict(X_test_pca)):.4f}\")\n",
    "print(f\"f1: {metrics.f1_score(y_filled_test, clf.predict(X_test_pca)):.4f}\")"
   ]
  },
  {
   "cell_type": "code",
   "execution_count": 49,
   "id": "e6571683",
   "metadata": {
    "scrolled": false
   },
   "outputs": [
    {
     "data": {
      "image/png": "[encoded data removed]",
      "text/plain": [
       "<Figure size 1296x432 with 2 Axes>"
      ]
     },
     "metadata": {
      "needs_background": "light"
     },
     "output_type": "display_data"
    }
   ],
   "source": [
    "fig, ax = plt.subplots(1, 2, figsize=(18, 6))\n",
    "metrics.plot_roc_curve(\n",
    "    clf, X_test_pca, y_filled_test, ax=ax[0], \n",
    "    label=f\"PCA + LogReg (AUC = {metrics.roc_auc_score(y_filled_test, clf.predict_proba(X_test_pca)[:, -1]):.2f})\"\n",
    ")\n",
    "ax[0].plot(np.linspace(0, 1, 100), np.linspace(0, 1, 100), label=\"baseline\")\n",
    "ax[0].set_title(\"ROC-curve\")\n",
    "ax[0].legend()\n",
    "metrics.plot_precision_recall_curve(\n",
    "    clf, X_test_pca, y_filled_test, ax=ax[1], \n",
    "    label=f\"PCA + LogReg (AP = {metrics.average_precision_score(y_filled_test, clf.predict_proba(X_test_pca)[:, -1]):.2f})\")\n",
    "ax[1].set_title(\"PR-curve\")\n",
    "ax[1].plot(np.linspace(0, 1, 100), np.full(100, (y_test == 1).mean()), label=\"baseline\")\n",
    "ax[1].legend()\n",
    "plt.savefig(\"pca_logreg.png\", dpi=300)\n",
    "plt.show()"
   ]
  },
  {
   "cell_type": "code",
   "execution_count": 50,
   "id": "74d4ee85",
   "metadata": {},
   "outputs": [
    {
     "data": {
      "text/plain": [
       "LogisticRegression(C=1, class_weight='balanced', max_iter=50000, penalty='l1',\n",
       "                   solver='liblinear')"
      ]
     },
     "execution_count": 50,
     "metadata": {},
     "output_type": "execute_result"
    }
   ],
   "source": [
    "clf"
   ]
  },
  {
   "cell_type": "markdown",
   "id": "aadac468",
   "metadata": {},
   "source": [
    "# 6. kNN"
   ]
  },
  {
   "cell_type": "code",
   "execution_count": 51,
   "id": "f72ab76e",
   "metadata": {},
   "outputs": [],
   "source": [
    "from sklearn.neighbors import KNeighborsClassifier"
   ]
  },
  {
   "cell_type": "code",
   "execution_count": 52,
   "id": "23de6cdd",
   "metadata": {},
   "outputs": [],
   "source": [
    "params = {\n",
    "    'n_neighbors': (1, 2, 3, 4, 5)\n",
    "}"
   ]
  },
  {
   "cell_type": "code",
   "execution_count": 53,
   "id": "ac6ef58e",
   "metadata": {},
   "outputs": [
    {
     "name": "stdout",
     "output_type": "stream",
     "text": [
      "Test score:\n",
      "Precision: 0.3333\n",
      "Recall: 0.3333\n",
      "f1: 0.3333\n"
     ]
    }
   ],
   "source": [
    "knn = pipeline(\n",
    "    KNeighborsClassifier(),\n",
    "    params\n",
    ")"
   ]
  },
  {
   "cell_type": "code",
   "execution_count": 54,
   "id": "a8acd6a8",
   "metadata": {},
   "outputs": [
    {
     "data": {
      "image/png": "[encoded data removed]",
      "text/plain": [
       "<Figure size 1296x432 with 2 Axes>"
      ]
     },
     "metadata": {
      "needs_background": "light"
     },
     "output_type": "display_data"
    }
   ],
   "source": [
    "fig, ax = plt.subplots(1, 2, figsize=(18, 6))\n",
    "metrics.plot_roc_curve(knn, X_test_norm, y_filled_test, ax=ax[0])\n",
    "ax[0].plot(np.linspace(0, 1, 100), np.linspace(0, 1, 100), label=\"baseline\")\n",
    "ax[0].set_title(\"ROC-curve\")\n",
    "ax[0].legend()\n",
    "metrics.plot_precision_recall_curve(knn, X_test_norm, y_filled_test, ax=ax[1])\n",
    "ax[1].set_title(\"PR-curve\")\n",
    "ax[1].plot(np.linspace(0, 1, 100), np.full(100, (y_test == 1).mean()), label=\"baseline\")\n",
    "ax[1].legend()\n",
    "plt.savefig(\"gradient_boosting.png\", dpi=300)\n",
    "plt.show()"
   ]
  },
  {
   "cell_type": "code",
   "execution_count": 55,
   "id": "ef161b18",
   "metadata": {},
   "outputs": [
    {
     "data": {
      "text/plain": [
       "KNeighborsClassifier(n_neighbors=1)"
      ]
     },
     "execution_count": 55,
     "metadata": {},
     "output_type": "execute_result"
    }
   ],
   "source": [
    "knn"
   ]
  },
  {
   "cell_type": "markdown",
   "id": "96c730be",
   "metadata": {},
   "source": [
    "# 7. Overview"
   ]
  },
  {
   "cell_type": "code",
   "execution_count": 56,
   "id": "47303018",
   "metadata": {},
   "outputs": [
    {
     "data": {
      "image/png": "[encoded data removed]",
      "text/plain": [
       "<Figure size 864x576 with 1 Axes>"
      ]
     },
     "metadata": {
      "needs_background": "light"
     },
     "output_type": "display_data"
    }
   ],
   "source": [
    "fig, ax = plt.subplots(figsize=(12, 8))\n",
    "metrics.plot_roc_curve(\n",
    "    clf, X_test_pca, y_filled_test, ax=ax,\n",
    "    label=f\"PCA + LogReg (AUC = {metrics.roc_auc_score(y_filled_test, clf.predict_proba(X_test_pca)[:, -1]):.2f})\"\n",
    ")\n",
    "metrics.plot_roc_curve(knn, X_test_norm, y_filled_test, ax=ax)\n",
    "metrics.plot_roc_curve(logreg, X_test_norm, y_filled_test, ax=ax)\n",
    "metrics.plot_roc_curve(boosting, X_test_norm, y_filled_test, ax=ax)\n",
    "plt.plot(np.linspace(0, 1, 100), np.linspace(0, 1, 100), label=\"baseline\")\n",
    "plt.legend()\n",
    "plt.savefig(\"all_roc.png\", dpi=300)\n",
    "plt.show()"
   ]
  },
  {
   "cell_type": "code",
   "execution_count": 57,
   "id": "95c2e705",
   "metadata": {},
   "outputs": [
    {
     "data": {
      "image/png": "[encoded data removed]",
      "text/plain": [
       "<Figure size 864x576 with 1 Axes>"
      ]
     },
     "metadata": {
      "needs_background": "light"
     },
     "output_type": "display_data"
    }
   ],
   "source": [
    "fig, ax = plt.subplots(figsize=(12, 8))\n",
    "metrics.plot_precision_recall_curve(\n",
    "    clf, X_test_pca, y_filled_test, ax=ax,\n",
    "    label=f\"PCA + LogReg (AP = {metrics.average_precision_score(y_filled_test, clf.predict_proba(X_test_pca)[:, -1]):.2f})\"\n",
    ")\n",
    "metrics.plot_precision_recall_curve(knn, X_test_norm, y_filled_test, ax=ax)\n",
    "metrics.plot_precision_recall_curve(logreg, X_test_norm, y_filled_test, ax=ax)\n",
    "metrics.plot_precision_recall_curve(boosting, X_test_norm, y_filled_test, ax=ax)\n",
    "plt.plot(np.linspace(0, 1, 100), np.full(100, (y_filled_test == 1).mean()), label=\"baseline\")\n",
    "plt.legend()\n",
    "plt.savefig(\"all_pr.png\", dpi=300)\n",
    "plt.show()"
   ]
  },
  {
   "cell_type": "code",
   "execution_count": 61,
   "id": "490c984f",
   "metadata": {},
   "outputs": [],
   "source": [
    "from pickle import dump\n",
    "with open(\"web/pca\", 'wb') as file:\n",
    "    dump(pca, file)\n",
    "with open(\"web/logreg\", 'wb') as file:\n",
    "    dump(clf, file)"
   ]
  }
 ],
 "metadata": {
  "kernelspec": {
   "display_name": "Python 3",
   "language": "python",
   "name": "python3"
  },
  "language_info": {
   "codemirror_mode": {
    "name": "ipython",
    "version": 3
   },
   "file_extension": ".py",
   "mimetype": "text/x-python",
   "name": "python",
   "nbconvert_exporter": "python",
   "pygments_lexer": "ipython3",
   "version": "3.7.10"
  }
 },
 "nbformat": 4,
 "nbformat_minor": 5
}
