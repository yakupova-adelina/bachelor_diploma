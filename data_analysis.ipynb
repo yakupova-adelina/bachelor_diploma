{
 "cells": [
  {
   "cell_type": "code",
   "execution_count": 1,
   "id": "awful-percentage",
   "metadata": {},
   "outputs": [],
   "source": [
    "import numpy as np\n",
    "import pandas as pd\n",
    "import matplotlib.pyplot as plt\n",
    "import seaborn as sns\n",
    "\n",
    "sns.color_palette(\"Set2\")\n",
    "%matplotlib inline"
   ]
  },
  {
   "cell_type": "markdown",
   "id": "secret-tragedy",
   "metadata": {},
   "source": [
    "Load dataset"
   ]
  },
  {
   "cell_type": "code",
   "execution_count": 2,
   "id": "lucky-caution",
   "metadata": {},
   "outputs": [],
   "source": [
    "df = pd.read_csv(\"new_db.csv\", index_col=\"id\")"
   ]
  },
  {
   "cell_type": "markdown",
   "id": "accurate-growth",
   "metadata": {},
   "source": [
    "`success` = учится ли человек\n",
    "\n",
    "`fail` = отчислен ли человек"
   ]
  },
  {
   "cell_type": "code",
   "execution_count": 3,
   "id": "prostate-croatia",
   "metadata": {},
   "outputs": [
    {
     "data": {
      "text/html": [
       "<div>\n",
       "<style scoped>\n",
       "    .dataframe tbody tr th:only-of-type {\n",
       "        vertical-align: middle;\n",
       "    }\n",
       "\n",
       "    .dataframe tbody tr th {\n",
       "        vertical-align: top;\n",
       "    }\n",
       "\n",
       "    .dataframe thead th {\n",
       "        text-align: right;\n",
       "    }\n",
       "</style>\n",
       "<table border=\"1\" class=\"dataframe\">\n",
       "  <thead>\n",
       "    <tr style=\"text-align: right;\">\n",
       "      <th></th>\n",
       "      <th>admission_year</th>\n",
       "      <th>name</th>\n",
       "      <th>admission_condition</th>\n",
       "      <th>exam_math</th>\n",
       "      <th>exam_inf</th>\n",
       "      <th>exam_rus</th>\n",
       "      <th>individual_achievements</th>\n",
       "      <th>exam_sum</th>\n",
       "      <th>student_mark_math</th>\n",
       "      <th>student_mark_inf</th>\n",
       "      <th>expulsion_sem</th>\n",
       "      <th>gpa_after_first_sem</th>\n",
       "      <th>gpa_after_second_sem</th>\n",
       "      <th>retakes_number_after_first_sem</th>\n",
       "      <th>retakes_number_after_second_sem</th>\n",
       "      <th>success</th>\n",
       "      <th>fail</th>\n",
       "    </tr>\n",
       "    <tr>\n",
       "      <th>id</th>\n",
       "      <th></th>\n",
       "      <th></th>\n",
       "      <th></th>\n",
       "      <th></th>\n",
       "      <th></th>\n",
       "      <th></th>\n",
       "      <th></th>\n",
       "      <th></th>\n",
       "      <th></th>\n",
       "      <th></th>\n",
       "      <th></th>\n",
       "      <th></th>\n",
       "      <th></th>\n",
       "      <th></th>\n",
       "      <th></th>\n",
       "      <th></th>\n",
       "      <th></th>\n",
       "    </tr>\n",
       "  </thead>\n",
       "  <tbody>\n",
       "    <tr>\n",
       "      <th>0</th>\n",
       "      <td>2017</td>\n",
       "      <td>Александров Степан Андреевич</td>\n",
       "      <td>БВИ</td>\n",
       "      <td>88.0</td>\n",
       "      <td>100.0</td>\n",
       "      <td>88.0</td>\n",
       "      <td>10.0</td>\n",
       "      <td>310.0</td>\n",
       "      <td>9.0</td>\n",
       "      <td>NaN</td>\n",
       "      <td>NaN</td>\n",
       "      <td>7.17</td>\n",
       "      <td>6.53</td>\n",
       "      <td>NaN</td>\n",
       "      <td>NaN</td>\n",
       "      <td>True</td>\n",
       "      <td>False</td>\n",
       "    </tr>\n",
       "    <tr>\n",
       "      <th>1</th>\n",
       "      <td>2017</td>\n",
       "      <td>Батманов Игорь Артёмович</td>\n",
       "      <td>БВИ</td>\n",
       "      <td>NaN</td>\n",
       "      <td>NaN</td>\n",
       "      <td>NaN</td>\n",
       "      <td>NaN</td>\n",
       "      <td>NaN</td>\n",
       "      <td>NaN</td>\n",
       "      <td>NaN</td>\n",
       "      <td>NaN</td>\n",
       "      <td>8.33</td>\n",
       "      <td>7.93</td>\n",
       "      <td>NaN</td>\n",
       "      <td>NaN</td>\n",
       "      <td>True</td>\n",
       "      <td>False</td>\n",
       "    </tr>\n",
       "    <tr>\n",
       "      <th>2</th>\n",
       "      <td>2017</td>\n",
       "      <td>Бикеев Артур Игоревич</td>\n",
       "      <td>БВИ</td>\n",
       "      <td>98.0</td>\n",
       "      <td>94.0</td>\n",
       "      <td>86.0</td>\n",
       "      <td>4.0</td>\n",
       "      <td>NaN</td>\n",
       "      <td>NaN</td>\n",
       "      <td>NaN</td>\n",
       "      <td>NaN</td>\n",
       "      <td>9.17</td>\n",
       "      <td>8.73</td>\n",
       "      <td>NaN</td>\n",
       "      <td>NaN</td>\n",
       "      <td>True</td>\n",
       "      <td>False</td>\n",
       "    </tr>\n",
       "    <tr>\n",
       "      <th>3</th>\n",
       "      <td>2017</td>\n",
       "      <td>Глазкин Алексей Андреевич</td>\n",
       "      <td>БВИ</td>\n",
       "      <td>84.0</td>\n",
       "      <td>84.0</td>\n",
       "      <td>72.0</td>\n",
       "      <td>6.0</td>\n",
       "      <td>NaN</td>\n",
       "      <td>9.0</td>\n",
       "      <td>8.0</td>\n",
       "      <td>NaN</td>\n",
       "      <td>7.00</td>\n",
       "      <td>7.50</td>\n",
       "      <td>NaN</td>\n",
       "      <td>NaN</td>\n",
       "      <td>True</td>\n",
       "      <td>False</td>\n",
       "    </tr>\n",
       "    <tr>\n",
       "      <th>4</th>\n",
       "      <td>2017</td>\n",
       "      <td>Гликин Алексей Алексеевич</td>\n",
       "      <td>БВИ</td>\n",
       "      <td>96.0</td>\n",
       "      <td>100.0</td>\n",
       "      <td>91.0</td>\n",
       "      <td>10.0</td>\n",
       "      <td>NaN</td>\n",
       "      <td>8.0</td>\n",
       "      <td>10.0</td>\n",
       "      <td>NaN</td>\n",
       "      <td>9.17</td>\n",
       "      <td>8.87</td>\n",
       "      <td>NaN</td>\n",
       "      <td>NaN</td>\n",
       "      <td>True</td>\n",
       "      <td>False</td>\n",
       "    </tr>\n",
       "    <tr>\n",
       "      <th>...</th>\n",
       "      <td>...</td>\n",
       "      <td>...</td>\n",
       "      <td>...</td>\n",
       "      <td>...</td>\n",
       "      <td>...</td>\n",
       "      <td>...</td>\n",
       "      <td>...</td>\n",
       "      <td>...</td>\n",
       "      <td>...</td>\n",
       "      <td>...</td>\n",
       "      <td>...</td>\n",
       "      <td>...</td>\n",
       "      <td>...</td>\n",
       "      <td>...</td>\n",
       "      <td>...</td>\n",
       "      <td>...</td>\n",
       "      <td>...</td>\n",
       "    </tr>\n",
       "    <tr>\n",
       "      <th>308</th>\n",
       "      <td>2019</td>\n",
       "      <td>Субботин Павел Александрович</td>\n",
       "      <td>Контракт</td>\n",
       "      <td>86.0</td>\n",
       "      <td>84.0</td>\n",
       "      <td>89.0</td>\n",
       "      <td>8.0</td>\n",
       "      <td>283.0</td>\n",
       "      <td>4.0</td>\n",
       "      <td>8.0</td>\n",
       "      <td>NaN</td>\n",
       "      <td>5.14</td>\n",
       "      <td>6.35</td>\n",
       "      <td>1.0</td>\n",
       "      <td>NaN</td>\n",
       "      <td>True</td>\n",
       "      <td>False</td>\n",
       "    </tr>\n",
       "    <tr>\n",
       "      <th>309</th>\n",
       "      <td>2019</td>\n",
       "      <td>Дибров Андрей Алексеевич</td>\n",
       "      <td>Контракт</td>\n",
       "      <td>92.0</td>\n",
       "      <td>91.0</td>\n",
       "      <td>94.0</td>\n",
       "      <td>4.0</td>\n",
       "      <td>281.0</td>\n",
       "      <td>8.0</td>\n",
       "      <td>3.0</td>\n",
       "      <td>NaN</td>\n",
       "      <td>6.29</td>\n",
       "      <td>6.29</td>\n",
       "      <td>NaN</td>\n",
       "      <td>NaN</td>\n",
       "      <td>True</td>\n",
       "      <td>False</td>\n",
       "    </tr>\n",
       "    <tr>\n",
       "      <th>310</th>\n",
       "      <td>2019</td>\n",
       "      <td>Никулкин Сергей Алексеевич</td>\n",
       "      <td>Контракт</td>\n",
       "      <td>88.0</td>\n",
       "      <td>91.0</td>\n",
       "      <td>89.0</td>\n",
       "      <td>10.0</td>\n",
       "      <td>278.0</td>\n",
       "      <td>4.0</td>\n",
       "      <td>4.0</td>\n",
       "      <td>1.0</td>\n",
       "      <td>NaN</td>\n",
       "      <td>NaN</td>\n",
       "      <td>NaN</td>\n",
       "      <td>NaN</td>\n",
       "      <td>False</td>\n",
       "      <td>True</td>\n",
       "    </tr>\n",
       "    <tr>\n",
       "      <th>311</th>\n",
       "      <td>2019</td>\n",
       "      <td>Пономарчук Анна Сергеевна</td>\n",
       "      <td>Контракт</td>\n",
       "      <td>94.0</td>\n",
       "      <td>81.0</td>\n",
       "      <td>94.0</td>\n",
       "      <td>2.0</td>\n",
       "      <td>271.0</td>\n",
       "      <td>6.0</td>\n",
       "      <td>5.0</td>\n",
       "      <td>NaN</td>\n",
       "      <td>4.71</td>\n",
       "      <td>4.41</td>\n",
       "      <td>1.0</td>\n",
       "      <td>2.0</td>\n",
       "      <td>True</td>\n",
       "      <td>False</td>\n",
       "    </tr>\n",
       "    <tr>\n",
       "      <th>312</th>\n",
       "      <td>2019</td>\n",
       "      <td>Ремизова Анна Вадимовна</td>\n",
       "      <td>Контракт</td>\n",
       "      <td>96.0</td>\n",
       "      <td>84.0</td>\n",
       "      <td>91.0</td>\n",
       "      <td>3.0</td>\n",
       "      <td>274.0</td>\n",
       "      <td>9.0</td>\n",
       "      <td>9.0</td>\n",
       "      <td>NaN</td>\n",
       "      <td>4.86</td>\n",
       "      <td>4.82</td>\n",
       "      <td>2.0</td>\n",
       "      <td>1.0</td>\n",
       "      <td>True</td>\n",
       "      <td>False</td>\n",
       "    </tr>\n",
       "  </tbody>\n",
       "</table>\n",
       "<p>313 rows × 17 columns</p>\n",
       "</div>"
      ],
      "text/plain": [
       "     admission_year                          name admission_condition  \\\n",
       "id                                                                      \n",
       "0              2017  Александров Степан Андреевич                 БВИ   \n",
       "1              2017      Батманов Игорь Артёмович                 БВИ   \n",
       "2              2017         Бикеев Артур Игоревич                 БВИ   \n",
       "3              2017     Глазкин Алексей Андреевич                 БВИ   \n",
       "4              2017     Гликин Алексей Алексеевич                 БВИ   \n",
       "..              ...                           ...                 ...   \n",
       "308            2019  Субботин Павел Александрович            Контракт   \n",
       "309            2019      Дибров Андрей Алексеевич            Контракт   \n",
       "310            2019    Никулкин Сергей Алексеевич            Контракт   \n",
       "311            2019     Пономарчук Анна Сергеевна            Контракт   \n",
       "312            2019       Ремизова Анна Вадимовна            Контракт   \n",
       "\n",
       "     exam_math  exam_inf  exam_rus  individual_achievements  exam_sum  \\\n",
       "id                                                                      \n",
       "0         88.0     100.0      88.0                     10.0     310.0   \n",
       "1          NaN       NaN       NaN                      NaN       NaN   \n",
       "2         98.0      94.0      86.0                      4.0       NaN   \n",
       "3         84.0      84.0      72.0                      6.0       NaN   \n",
       "4         96.0     100.0      91.0                     10.0       NaN   \n",
       "..         ...       ...       ...                      ...       ...   \n",
       "308       86.0      84.0      89.0                      8.0     283.0   \n",
       "309       92.0      91.0      94.0                      4.0     281.0   \n",
       "310       88.0      91.0      89.0                     10.0     278.0   \n",
       "311       94.0      81.0      94.0                      2.0     271.0   \n",
       "312       96.0      84.0      91.0                      3.0     274.0   \n",
       "\n",
       "     student_mark_math  student_mark_inf  expulsion_sem  gpa_after_first_sem  \\\n",
       "id                                                                             \n",
       "0                  9.0               NaN            NaN                 7.17   \n",
       "1                  NaN               NaN            NaN                 8.33   \n",
       "2                  NaN               NaN            NaN                 9.17   \n",
       "3                  9.0               8.0            NaN                 7.00   \n",
       "4                  8.0              10.0            NaN                 9.17   \n",
       "..                 ...               ...            ...                  ...   \n",
       "308                4.0               8.0            NaN                 5.14   \n",
       "309                8.0               3.0            NaN                 6.29   \n",
       "310                4.0               4.0            1.0                  NaN   \n",
       "311                6.0               5.0            NaN                 4.71   \n",
       "312                9.0               9.0            NaN                 4.86   \n",
       "\n",
       "     gpa_after_second_sem  retakes_number_after_first_sem  \\\n",
       "id                                                          \n",
       "0                    6.53                             NaN   \n",
       "1                    7.93                             NaN   \n",
       "2                    8.73                             NaN   \n",
       "3                    7.50                             NaN   \n",
       "4                    8.87                             NaN   \n",
       "..                    ...                             ...   \n",
       "308                  6.35                             1.0   \n",
       "309                  6.29                             NaN   \n",
       "310                   NaN                             NaN   \n",
       "311                  4.41                             1.0   \n",
       "312                  4.82                             2.0   \n",
       "\n",
       "     retakes_number_after_second_sem  success   fail  \n",
       "id                                                    \n",
       "0                                NaN     True  False  \n",
       "1                                NaN     True  False  \n",
       "2                                NaN     True  False  \n",
       "3                                NaN     True  False  \n",
       "4                                NaN     True  False  \n",
       "..                               ...      ...    ...  \n",
       "308                              NaN     True  False  \n",
       "309                              NaN     True  False  \n",
       "310                              NaN    False   True  \n",
       "311                              2.0     True  False  \n",
       "312                              1.0     True  False  \n",
       "\n",
       "[313 rows x 17 columns]"
      ]
     },
     "execution_count": 3,
     "metadata": {},
     "output_type": "execute_result"
    }
   ],
   "source": [
    "df[\"success\"] = df.expulsion_sem.isnull()\n",
    "df[\"fail\"] = ~df[\"success\"]\n",
    "df"
   ]
  },
  {
   "cell_type": "code",
   "execution_count": 4,
   "id": "plain-little",
   "metadata": {},
   "outputs": [],
   "source": [
    "def draw_hist(column_name, **kwargs):\n",
    "    plt.figure(figsize=(12, 8))\n",
    "    if \"title\" in kwargs:\n",
    "        plt.title(kwargs[\"title\"])\n",
    "    plt.hist(\n",
    "        df.loc[df.success, column_name].dropna().to_numpy(), \n",
    "        alpha=0.5,\n",
    "        label=\"Success\",\n",
    "        density=True\n",
    "    )\n",
    "    plt.hist(\n",
    "        df.loc[df.fail, column_name].dropna().to_numpy(), \n",
    "        alpha=0.5,\n",
    "        label=\"Fail\",\n",
    "        density=True\n",
    "    )\n",
    "    if \"xlabel\" in kwargs:\n",
    "        plt.xlabel(kwargs[\"xlabel\"])\n",
    "    if \"ylabel\" in kwargs:\n",
    "        plt.ylabel(kwargs[\"ylabel\"])\n",
    "    plt.legend()\n",
    "    plt.show()"
   ]
  },
  {
   "cell_type": "code",
   "execution_count": 5,
   "id": "every-slope",
   "metadata": {},
   "outputs": [
    {
     "data": {
      "image/png": "[encoded data removed]",
      "text/plain": [
       "<Figure size 864x576 with 1 Axes>"
      ]
     },
     "metadata": {
      "needs_background": "light"
     },
     "output_type": "display_data"
    }
   ],
   "source": [
    "draw_hist(\"exam_math\", title=\"Math\", xlabel=\"Math exam result\", ylabel=\"Probability\")"
   ]
  },
  {
   "cell_type": "code",
   "execution_count": 6,
   "id": "exclusive-bulletin",
   "metadata": {},
   "outputs": [
    {
     "data": {
      "image/png": "[encoded data removed]",
      "text/plain": [
       "<Figure size 864x576 with 1 Axes>"
      ]
     },
     "metadata": {
      "needs_background": "light"
     },
     "output_type": "display_data"
    }
   ],
   "source": [
    "draw_hist(\"exam_inf\", title=\"Informatics\", xlabel=\"Informatics exam result\", ylabel=\"Probability\")"
   ]
  },
  {
   "cell_type": "code",
   "execution_count": 7,
   "id": "military-smith",
   "metadata": {
    "scrolled": false
   },
   "outputs": [
    {
     "data": {
      "image/png": "[encoded data removed]",
      "text/plain": [
       "<Figure size 864x576 with 1 Axes>"
      ]
     },
     "metadata": {
      "needs_background": "light"
     },
     "output_type": "display_data"
    }
   ],
   "source": [
    "draw_hist(\"exam_rus\", title=\"Russian\", xlabel=\"Russian exam result\", ylabel=\"Probability\")"
   ]
  },
  {
   "cell_type": "code",
   "execution_count": 8,
   "id": "commercial-equity",
   "metadata": {
    "scrolled": false
   },
   "outputs": [
    {
     "data": {
      "image/png": "[encoded data removed]",
      "text/plain": [
       "<Figure size 864x576 with 1 Axes>"
      ]
     },
     "metadata": {
      "needs_background": "light"
     },
     "output_type": "display_data"
    }
   ],
   "source": [
    "draw_hist(\"exam_sum\", title=\"Sum\")"
   ]
  },
  {
   "cell_type": "markdown",
   "id": "fiscal-exhibit",
   "metadata": {},
   "source": [
    "# Models"
   ]
  },
  {
   "cell_type": "code",
   "execution_count": 9,
   "id": "recreational-robin",
   "metadata": {},
   "outputs": [],
   "source": [
    "from sklearn.preprocessing import StandardScaler\n",
    "from sklearn.model_selection import cross_validate, GridSearchCV\n",
    "from sklearn.metrics import f1_score, accuracy_score, balanced_accuracy_score"
   ]
  },
  {
   "cell_type": "code",
   "execution_count": 10,
   "id": "needed-projection",
   "metadata": {},
   "outputs": [],
   "source": [
    "features = [\"exam_math\", \"exam_inf\", \"exam_rus\", \"individual_achievements\",\n",
    "            \"exam_sum\", \"student_mark_math\", \"student_mark_inf\"]"
   ]
  },
  {
   "cell_type": "markdown",
   "id": "consolidated-royal",
   "metadata": {},
   "source": [
    "Fill `NaN` in feature columns"
   ]
  },
  {
   "cell_type": "code",
   "execution_count": 11,
   "id": "happy-oxford",
   "metadata": {},
   "outputs": [
    {
     "name": "stdout",
     "output_type": "stream",
     "text": [
      "exam_math: 22 missing values\n",
      "exam_inf: 23 missing values\n",
      "exam_rus: 22 missing values\n",
      "individual_achievements: 23 missing values\n",
      "exam_sum: 37 missing values\n",
      "student_mark_math: 113 missing values\n",
      "student_mark_inf: 119 missing values\n"
     ]
    }
   ],
   "source": [
    "mean_val = dict()\n",
    "for feature in features:\n",
    "    mean_val[feature] = df[feature].dropna().mean()\n",
    "    print(f\"{feature}: {df[feature].isnull().sum()} missing values\")\n",
    "    df.loc[df[feature].isnull(), feature] = mean_val[feature]"
   ]
  },
  {
   "cell_type": "markdown",
   "id": "looking-pulse",
   "metadata": {},
   "source": [
    "Prepare normalized data, calc mean and standard deviation among all feature columns"
   ]
  },
  {
   "cell_type": "code",
   "execution_count": 12,
   "id": "behind-crowd",
   "metadata": {},
   "outputs": [
    {
     "name": "stdout",
     "output_type": "stream",
     "text": [
      "X: mean\n",
      "exam_math                   93.381443\n",
      "exam_inf                    95.124138\n",
      "exam_rus                    90.896907\n",
      "individual_achievements      7.975862\n",
      "exam_sum                   292.753623\n",
      "student_mark_math            7.350000\n",
      "student_mark_inf             7.139175\n",
      "dtype: float64\n",
      "\n",
      "X: std\n",
      "exam_math                   6.268731\n",
      "exam_inf                    5.596912\n",
      "exam_rus                    7.841153\n",
      "individual_achievements     3.202979\n",
      "exam_sum                   13.851230\n",
      "student_mark_math           1.488740\n",
      "student_mark_inf            1.570197\n",
      "dtype: float64\n",
      "\n",
      "\n",
      "\n",
      "X_norm: mean\n",
      "exam_math                 -2.518397e-16\n",
      "exam_inf                  -2.553868e-17\n",
      "exam_rus                  -1.062659e-15\n",
      "individual_achievements   -1.064112e-16\n",
      "exam_sum                  -8.555457e-16\n",
      "student_mark_math         -2.915666e-16\n",
      "student_mark_inf           3.327122e-16\n",
      "dtype: float64\n",
      "\n",
      "X_norm: std\n",
      "exam_math                  1.001601\n",
      "exam_inf                   1.001601\n",
      "exam_rus                   1.001601\n",
      "individual_achievements    1.001601\n",
      "exam_sum                   1.001601\n",
      "student_mark_math          1.001601\n",
      "student_mark_inf           1.001601\n",
      "dtype: float64\n"
     ]
    }
   ],
   "source": [
    "X = df[features]\n",
    "y = pd.Series(~df.expulsion_sem.isnull(), dtype=np.float64)\n",
    "X_norm = pd.DataFrame(data=StandardScaler().fit(X).transform(X), columns=X.columns)\n",
    "print(\"X: mean\", X.mean(axis=0), \"\\nX: std\", X.std(axis=0), \"\\n\\n\", sep='\\n')\n",
    "print(\"X_norm: mean\", X_norm.mean(axis=0), \"\\nX_norm: std\", X_norm.std(axis=0), sep='\\n')"
   ]
  },
  {
   "cell_type": "code",
   "execution_count": 13,
   "id": "demonstrated-discussion",
   "metadata": {},
   "outputs": [],
   "source": [
    "def run_cross_validation(clf):\n",
    "    global X_norm, y\n",
    "    score = cross_validate(clf, X_norm, y, scoring=[\n",
    "        \"accuracy\",\n",
    "        \"f1\",\n",
    "        \"f1_micro\",\n",
    "        \"f1_macro\",\n",
    "        \"f1_weighted\",\n",
    "        \"balanced_accuracy\"\n",
    "    ])\n",
    "    print(\"Mean cross validation baseline score is:\")\n",
    "    print(f\"Accuracy: {score['test_accuracy'].mean():.4f}\")\n",
    "    print(f\"Balanced accuracy: {score['test_balanced_accuracy'].mean():.4f}\")\n",
    "    print(f\"f1: {score['test_f1'].mean():.4f}\")\n",
    "    print(f\"f1_micro: {score['test_f1_micro'].mean():.4f}\")\n",
    "    print(f\"f1_macro: {score['test_f1_macro'].mean():.4f}\")\n",
    "    print(f\"f1_weighted: {score['test_f1_weighted'].mean():.4f}\")\n",
    "\n",
    "\n",
    "def pipeline(clf, params, scoring='f1_macro'):\n",
    "    grid_clf = GridSearchCV(clf, params, scoring=scoring)\n",
    "    grid_clf = grid_clf.fit(X_norm, y)\n",
    "    run_cross_validation(grid_clf.best_estimator_)\n",
    "    return grid_clf.best_estimator_"
   ]
  },
  {
   "cell_type": "markdown",
   "id": "intermediate-appeal",
   "metadata": {},
   "source": [
    "## 0. Baseline"
   ]
  },
  {
   "cell_type": "code",
   "execution_count": 14,
   "id": "activated-decimal",
   "metadata": {},
   "outputs": [],
   "source": [
    "from scipy.stats import bernoulli\n",
    "from sklearn.base import BaseEstimator\n",
    "\n",
    "class Baseline(BaseEstimator):\n",
    "    def fit(self, X, y):\n",
    "        self.p = y.mean()\n",
    "        return self\n",
    "    \n",
    "    def predict(self, X):\n",
    "        return bernoulli.rvs(self.p, size=len(X))"
   ]
  },
  {
   "cell_type": "code",
   "execution_count": 15,
   "id": "meaning-salvation",
   "metadata": {},
   "outputs": [
    {
     "name": "stdout",
     "output_type": "stream",
     "text": [
      "Mean cross validation baseline score is:\n",
      "Accuracy: 0.6871\n",
      "Balanced accuracy: 0.5140\n",
      "f1: 0.1973\n",
      "f1_micro: 0.6871\n",
      "f1_macro: 0.5007\n",
      "f1_weighted: 0.6987\n"
     ]
    }
   ],
   "source": [
    "run_cross_validation(Baseline())"
   ]
  },
  {
   "cell_type": "markdown",
   "id": "advised-movement",
   "metadata": {},
   "source": [
    "## 1. Linear model"
   ]
  },
  {
   "cell_type": "code",
   "execution_count": 16,
   "id": "brutal-liverpool",
   "metadata": {},
   "outputs": [],
   "source": [
    "from sklearn.linear_model import LogisticRegression"
   ]
  },
  {
   "cell_type": "markdown",
   "id": "liberal-nepal",
   "metadata": {},
   "source": [
    "Выбираем параметры перебором\n",
    "\n",
    "`penalty`: тип регуляризации\n",
    "\n",
    "`C`: коэффициент перед регуляризатором\n",
    "\n",
    "`class_weight`: веса классов обратно пропорциональны их частоте (это нужно, так как отчисленных мало, классы неравноправны)"
   ]
  },
  {
   "cell_type": "code",
   "execution_count": 17,
   "id": "asian-accident",
   "metadata": {},
   "outputs": [],
   "source": [
    "params = {\n",
    "    'penalty': ('l2', 'l1'),\n",
    "    'C': (1, 5, 10, 100, 200, 500, 1000, 2000, 5000),\n",
    "    'class_weight': ('balanced', None)\n",
    "}"
   ]
  },
  {
   "cell_type": "code",
   "execution_count": 18,
   "id": "cleared-garlic",
   "metadata": {},
   "outputs": [
    {
     "name": "stdout",
     "output_type": "stream",
     "text": [
      "Mean cross validation baseline score is:\n",
      "Accuracy: 0.6616\n",
      "Balanced accuracy: 0.6118\n",
      "f1: 0.3594\n",
      "f1_micro: 0.6616\n",
      "f1_macro: 0.5620\n",
      "f1_weighted: 0.6896\n"
     ]
    }
   ],
   "source": [
    "clf = pipeline(\n",
    "    LogisticRegression(solver=\"liblinear\", max_iter=1000),\n",
    "    params,\n",
    "    scoring='f1'\n",
    ")"
   ]
  },
  {
   "cell_type": "code",
   "execution_count": 19,
   "id": "guided-german",
   "metadata": {},
   "outputs": [
    {
     "data": {
      "text/plain": [
       "LogisticRegression(C=1, class_weight='balanced', max_iter=1000, penalty='l1',\n",
       "                   solver='liblinear')"
      ]
     },
     "execution_count": 19,
     "metadata": {},
     "output_type": "execute_result"
    }
   ],
   "source": [
    "clf"
   ]
  },
  {
   "cell_type": "markdown",
   "id": "certified-impression",
   "metadata": {},
   "source": [
    "## 2. Decision Tree"
   ]
  },
  {
   "cell_type": "code",
   "execution_count": 20,
   "id": "steady-mills",
   "metadata": {},
   "outputs": [],
   "source": [
    "from sklearn.tree import DecisionTreeClassifier"
   ]
  },
  {
   "cell_type": "code",
   "execution_count": 21,
   "id": "standard-carroll",
   "metadata": {},
   "outputs": [],
   "source": [
    "params = {\n",
    "    'criterion': ('gini', 'entropy'),\n",
    "    'max_depth': (1, 5, 10, 15, 20),\n",
    "    'min_samples_split': (2, 3, 4, 5),\n",
    "    'class_weight': ('balanced', None)\n",
    "}"
   ]
  },
  {
   "cell_type": "code",
   "execution_count": 22,
   "id": "advisory-affair",
   "metadata": {},
   "outputs": [
    {
     "name": "stdout",
     "output_type": "stream",
     "text": [
      "Mean cross validation baseline score is:\n",
      "Accuracy: 0.5909\n",
      "Balanced accuracy: 0.5566\n",
      "f1: 0.3225\n",
      "f1_micro: 0.5909\n",
      "f1_macro: 0.5125\n",
      "f1_weighted: 0.6318\n"
     ]
    }
   ],
   "source": [
    "clf = pipeline(\n",
    "    DecisionTreeClassifier(splitter='best'),\n",
    "    params,\n",
    "    scoring='f1'\n",
    ")"
   ]
  },
  {
   "cell_type": "markdown",
   "id": "welsh-divide",
   "metadata": {},
   "source": [
    "## 3. Random Forest"
   ]
  },
  {
   "cell_type": "code",
   "execution_count": 23,
   "id": "veterinary-patrick",
   "metadata": {},
   "outputs": [],
   "source": [
    "from sklearn.ensemble import RandomForestClassifier"
   ]
  },
  {
   "cell_type": "code",
   "execution_count": 24,
   "id": "suffering-jamaica",
   "metadata": {},
   "outputs": [],
   "source": [
    "params = {\n",
    "    'n_estimators': (50, 100),\n",
    "    'criterion': ('gini', 'entropy'),\n",
    "    'max_depth': (1, 2, 5, 10, 20),\n",
    "    'min_samples_split': (2, 3, 5),\n",
    "    'class_weight': ('balanced', 'balanced_subsample')\n",
    "}"
   ]
  },
  {
   "cell_type": "code",
   "execution_count": 25,
   "id": "respective-guarantee",
   "metadata": {},
   "outputs": [
    {
     "name": "stdout",
     "output_type": "stream",
     "text": [
      "Mean cross validation baseline score is:\n",
      "Accuracy: 0.6841\n",
      "Balanced accuracy: 0.5850\n",
      "f1: 0.3072\n",
      "f1_micro: 0.6841\n",
      "f1_macro: 0.5471\n",
      "f1_weighted: 0.6982\n"
     ]
    }
   ],
   "source": [
    "clf = pipeline(RandomForestClassifier(), params, scoring='f1')"
   ]
  },
  {
   "cell_type": "code",
   "execution_count": 26,
   "id": "possible-andorra",
   "metadata": {},
   "outputs": [
    {
     "data": {
      "text/plain": [
       "RandomForestClassifier(class_weight='balanced_subsample', criterion='entropy',\n",
       "                       max_depth=1, n_estimators=50)"
      ]
     },
     "execution_count": 26,
     "metadata": {},
     "output_type": "execute_result"
    }
   ],
   "source": [
    "clf"
   ]
  },
  {
   "cell_type": "markdown",
   "id": "downtown-semiconductor",
   "metadata": {},
   "source": [
    "## Gradient Boosting"
   ]
  },
  {
   "cell_type": "code",
   "execution_count": 27,
   "id": "enclosed-vienna",
   "metadata": {},
   "outputs": [],
   "source": [
    "from sklearn.ensemble import GradientBoostingClassifier"
   ]
  },
  {
   "cell_type": "code",
   "execution_count": 28,
   "id": "moral-defense",
   "metadata": {},
   "outputs": [],
   "source": [
    "params = {\n",
    "    'loss': ('deviance', 'exponential'),\n",
    "    'learning_rate': (0.1, 0.01),\n",
    "    'n_estimators': (50, 100),\n",
    "    'min_samples_split': (2, 3, 5),\n",
    "    'max_depth': (1, 2, 3),\n",
    "    'max_features': ('auto', 'sqrt', 'log2')\n",
    "}"
   ]
  },
  {
   "cell_type": "code",
   "execution_count": 29,
   "id": "mysterious-quilt",
   "metadata": {},
   "outputs": [
    {
     "name": "stdout",
     "output_type": "stream",
     "text": [
      "Mean cross validation baseline score is:\n",
      "Accuracy: 0.7955\n",
      "Balanced accuracy: 0.5336\n",
      "f1: 0.1581\n",
      "f1_micro: 0.7955\n",
      "f1_macro: 0.5206\n",
      "f1_weighted: 0.7493\n"
     ]
    }
   ],
   "source": [
    "clf = pipeline(\n",
    "    GradientBoostingClassifier(warm_start=True),\n",
    "    params,\n",
    "    scoring='f1'\n",
    ")"
   ]
  },
  {
   "cell_type": "code",
   "execution_count": 30,
   "id": "violent-treatment",
   "metadata": {},
   "outputs": [
    {
     "data": {
      "text/plain": [
       "GradientBoostingClassifier(loss='exponential', max_depth=2, max_features='auto',\n",
       "                           warm_start=True)"
      ]
     },
     "execution_count": 30,
     "metadata": {},
     "output_type": "execute_result"
    }
   ],
   "source": [
    "clf"
   ]
  }
 ],
 "metadata": {
  "kernelspec": {
   "display_name": "Python 3",
   "language": "python",
   "name": "python3"
  },
  "language_info": {
   "codemirror_mode": {
    "name": "ipython",
    "version": 3
   },
   "file_extension": ".py",
   "mimetype": "text/x-python",
   "name": "python",
   "nbconvert_exporter": "python",
   "pygments_lexer": "ipython3",
   "version": "3.9.4"
  }
 },
 "nbformat": 4,
 "nbformat_minor": 5
}
